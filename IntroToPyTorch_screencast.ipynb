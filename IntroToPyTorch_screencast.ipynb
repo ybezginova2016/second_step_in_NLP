{
 "cells": [
  {
   "cell_type": "markdown",
   "metadata": {
    "id": "YF7YwEmWOIDh"
   },
   "source": [
    "# Знакомство с PyTorch"
   ]
  },
  {
   "cell_type": "markdown",
   "metadata": {
    "id": "ZKiI8CPnOzIG"
   },
   "source": [
    "## Введение"
   ]
  },
  {
   "cell_type": "markdown",
   "metadata": {
    "id": "WEv7EaeN8fMf"
   },
   "source": [
    "Библиотека PyTorch является универсальным инструментом машинного обучения. Она популярна работе с нейронными сетями. Является open-source проектом. В библиотеке есть четыре ключевых составляющих:\n",
    "\n",
    "* Развитый инструментарий для работы с тензорами. Он похож на numpy, но даёт дополнительные возможности по контролю выделяемой памяти, что важно при работе с большими моделями и данными.\n",
    "\n",
    "* Простое построение динамического вычислительного графа, позволяющего получать градиенты целевых функций от параметров модели.\n",
    "\n",
    "* Большой набор готовых слоёв для построения нейронных сетей произвольной архитектуры.\n",
    "\n",
    "* Возможность перенаправлять вычисления на графические процессоры GPU.\n"
   ]
  },
  {
   "cell_type": "code",
   "execution_count": 17,
   "outputs": [],
   "source": [
    "import torch\n",
    "import numpy as np"
   ],
   "metadata": {
    "collapsed": false
   }
  },
  {
   "cell_type": "code",
   "execution_count": 18,
   "metadata": {
    "colab": {
     "base_uri": "https://localhost:8080/"
    },
    "id": "fk3wRCkB82DP",
    "outputId": "70bf90f9-a3bd-4ff9-f89b-3975c3ba5f26"
   },
   "outputs": [
    {
     "name": "stdout",
     "output_type": "stream",
     "text": [
      "tensor([[1., 0., 0.],\n",
      "        [0., 1., 0.],\n",
      "        [0., 0., 1.]])\n"
     ]
    }
   ],
   "source": [
    "e  = torch.eye(3) # единичная матрица 3x3\n",
    "print(e) "
   ]
  },
  {
   "cell_type": "markdown",
   "metadata": {
    "id": "-tv6nNU-O316"
   },
   "source": [
    "## Тензоры"
   ]
  },
  {
   "cell_type": "markdown",
   "metadata": {
    "id": "ulCtvFUp89Jv"
   },
   "source": [
    "Тензор - это основной объект в *PyTorch*. Тензоры схожи с *ndarrays* в *NumPy*, с добавлением того, что тензоры могут быть использованы на GPU для ускорения вычислений.\n",
    "\n",
    "* Тензор - это набор из элементов одного типа. \n",
    "* Тензоры могут быть одномерные (векторы), двумерные (матрицы), трехмерные и так далее - любой размерности."
   ]
  },
  {
   "cell_type": "code",
   "execution_count": 7,
   "metadata": {
    "id": "w7WW-JOlL3k4",
    "colab": {
     "base_uri": "https://localhost:8080/"
    },
    "outputId": "bd98dabe-fd73-4931-f5b1-5c0b1574c1d4"
   },
   "outputs": [
    {
     "data": {
      "text/plain": "tensor([[0.3685, 0.4806, 0.1398],\n        [0.3450, 0.8511, 0.5468],\n        [0.1013, 0.8532, 0.9164],\n        [0.7567, 0.5744, 0.2798],\n        [0.7790, 0.6205, 0.5533]])"
     },
     "execution_count": 7,
     "metadata": {},
     "output_type": "execute_result"
    }
   ],
   "source": [
    "a = torch.rand(5, 3) # сгенерировали матрицу 5x3 из случайных чисел\n",
    "a"
   ]
  },
  {
   "cell_type": "code",
   "execution_count": 8,
   "metadata": {
    "id": "2TmdhoetNG-K",
    "colab": {
     "base_uri": "https://localhost:8080/"
    },
    "outputId": "d0e1bd4c-ea2d-43e1-e565-2f406405fb24"
   },
   "outputs": [
    {
     "data": {
      "text/plain": "torch.Size([5, 3])"
     },
     "execution_count": 8,
     "metadata": {},
     "output_type": "execute_result"
    }
   ],
   "source": [
    "a.shape # посмотрели размеры"
   ]
  },
  {
   "cell_type": "code",
   "execution_count": 9,
   "metadata": {
    "id": "nfwI1S5_NLpi",
    "colab": {
     "base_uri": "https://localhost:8080/"
    },
    "outputId": "28132455-8b9e-4553-bf35-e9209dc6f1cc"
   },
   "outputs": [
    {
     "data": {
      "text/plain": "tensor([[3.3685, 3.4806, 3.1398],\n        [3.3450, 3.8511, 3.5468],\n        [3.1013, 3.8532, 3.9164],\n        [3.7567, 3.5744, 3.2798],\n        [3.7790, 3.6205, 3.5533]])"
     },
     "execution_count": 9,
     "metadata": {},
     "output_type": "execute_result"
    }
   ],
   "source": [
    "a + 3 # добавили 3 ко всем элементам"
   ]
  },
  {
   "cell_type": "markdown",
   "metadata": {
    "id": "M5hjSPTDO-sz"
   },
   "source": [
    "## Вычисления на видеокарте"
   ]
  },
  {
   "cell_type": "markdown",
   "metadata": {
    "id": "mNuc0a4u7jfG"
   },
   "source": [
    "Если на компьютере есть графическая карта, то можно осуществлять вычисления на ней - обычно это ускоряет вычисления в разы.\n",
    "\n",
    "Проведем эксперимент:\n",
    "1. Сначала создадим две единичных матрицы большой размерности и перемножим их как обычно, используя мощности центрального процессора (CPU), засечем время.\n",
    "\n",
    "2. Затем создадим такие же тензоры, перенесем их на GPU, там сделаем умножение и вернем результат на CPU (можно сразу создавать тензоры на GPU, но обычно придерживаются первого варианта). Также замерим время и сравним."
   ]
  },
  {
   "cell_type": "markdown",
   "metadata": {
    "id": "XydU5LLg8Uh7"
   },
   "source": [
    "**Первый вариант (CPU)**"
   ]
  },
  {
   "cell_type": "code",
   "execution_count": 12,
   "metadata": {
    "id": "UnVCohgS6thi",
    "colab": {
     "base_uri": "https://localhost:8080/"
    },
    "outputId": "d18ffbfc-9305-47f3-fb75-47b2f90edd98"
   },
   "outputs": [
    {
     "name": "stdout",
     "output_type": "stream",
     "text": [
      "CPU times: total: 1min 20s\n",
      "Wall time: 19 s\n"
     ]
    }
   ],
   "source": [
    "%%time\n",
    "\n",
    "x1 = torch.eye(10000)\n",
    "y1 = torch.eye(10000)\n",
    "z1 = x1.mm(y1)   "
   ]
  },
  {
   "cell_type": "markdown",
   "metadata": {
    "id": "-Ou9KPPP8Y0k"
   },
   "source": [
    "**Второй вариант (GPU)**"
   ]
  },
  {
   "cell_type": "code",
   "execution_count": 14,
   "metadata": {
    "id": "wKbDpqtg7AGX"
   },
   "outputs": [],
   "source": [
    "cpu = torch.device(\"cpu\")\n",
    "gpu = torch.device(\"cuda:0\" if torch.cuda.is_available() else \"cpu\")"
   ]
  },
  {
   "cell_type": "code",
   "execution_count": 15,
   "metadata": {
    "id": "HvZH-1gF7VKx",
    "colab": {
     "base_uri": "https://localhost:8080/"
    },
    "outputId": "eb0d2319-e587-46dd-e645-aaf0a5a6bd1f"
   },
   "outputs": [
    {
     "name": "stdout",
     "output_type": "stream",
     "text": [
      "CPU times: total: 1min 20s\n",
      "Wall time: 20.5 s\n"
     ]
    }
   ],
   "source": [
    "%%time\n",
    "\n",
    "x1 = torch.eye(10000).to(gpu)\n",
    "y1 = torch.eye(10000).to(gpu)\n",
    "z1 = x1.mm(y1).to(cpu)"
   ]
  },
  {
   "cell_type": "markdown",
   "source": [
    "## Сравнение PyTorch и NumPy\n",
    "[Torch for Numpy users](https://github.com/torch/torch7/wiki/Torch-for-Numpy-users)\n",
    "\n",
    "Операции в PyTorch и NumPy очень похожи.\n",
    "\n",
    "Давайте посмотрим на пару примеров:\n",
    "\n",
    "1) создадим матрицы случайных чисел в NumPy и в PyTorch:\n",
    "NumPy: a = np.random.rand(5, 3)\n",
    "PyTorch: x = torch.rand(5, 3)\n",
    "\n",
    "2) умножим матрицу на себя транспонированную:\n",
    "NumPy: np.dot(a, a.T)\n",
    "PyTorch: x.mm(x.t())\n",
    "\n",
    "3) посчитаем среднее значение матрицы по столбцам:\n",
    "NumPy: a.mean(axis=-1)\n",
    "PyTorch: x.mean(dim=-1)"
   ],
   "metadata": {
    "collapsed": false
   }
  },
  {
   "cell_type": "code",
   "execution_count": 20,
   "outputs": [
    {
     "data": {
      "text/plain": "array([[0.65746899, 0.9790198 , 0.38225826],\n       [0.51968344, 0.4987433 , 0.03126495],\n       [0.99861941, 0.47712412, 0.04358963],\n       [0.88381713, 0.04219248, 0.10862971],\n       [0.83888688, 0.61318873, 0.03288338]])"
     },
     "execution_count": 20,
     "metadata": {},
     "output_type": "execute_result"
    }
   ],
   "source": [
    "# numpy\n",
    "# 1) создадим матрицы случайных чисел в NumPy и в PyTorch\n",
    "a = np.random.rand(5, 3)\n",
    "a"
   ],
   "metadata": {
    "collapsed": false
   }
  },
  {
   "cell_type": "code",
   "execution_count": 21,
   "outputs": [
    {
     "data": {
      "text/plain": "tensor([[0.1485, 0.8491, 0.9799],\n        [0.5552, 0.6038, 0.6151],\n        [0.5755, 0.6739, 0.1658],\n        [0.4044, 0.9084, 0.5454],\n        [0.4928, 0.5718, 0.9918]])"
     },
     "execution_count": 21,
     "metadata": {},
     "output_type": "execute_result"
    }
   ],
   "source": [
    "# PyTorch\n",
    "# 1) создадим матрицы случайных чисел в NumPy и в PyTorch\n",
    "x = torch.rand(5, 3)\n",
    "x"
   ],
   "metadata": {
    "collapsed": false
   }
  },
  {
   "cell_type": "code",
   "execution_count": 22,
   "outputs": [
    {
     "data": {
      "text/plain": "array([[1.53686662, 0.8419066 , 1.14033775, 0.66391423, 1.16443596],\n       [0.8419066 , 0.51979326, 0.75829126, 0.48374464, 0.74280749],\n       [1.14033775, 0.75829126, 1.22678821, 0.90746312, 1.13172923],\n       [0.66391423, 0.48374464, 0.90746312, 0.79471333, 0.77086666],\n       [1.16443596, 0.74280749, 1.13172923, 0.77086666, 1.08081294]])"
     },
     "execution_count": 22,
     "metadata": {},
     "output_type": "execute_result"
    }
   ],
   "source": [
    "# NumPy\n",
    "# 2) умножим матрицу на себя транспонированную\n",
    "np.dot(a, a.T)"
   ],
   "metadata": {
    "collapsed": false
   }
  },
  {
   "cell_type": "code",
   "execution_count": 23,
   "outputs": [
    {
     "data": {
      "text/plain": "tensor([[1.7032, 1.1979, 0.8201, 1.3659, 1.5306],\n        [1.1979, 1.0513, 0.8284, 1.1086, 1.2290],\n        [0.8201, 0.8284, 0.8127, 0.9353, 0.8333],\n        [1.3659, 1.1086, 0.9353, 1.2863, 1.2597],\n        [1.5306, 1.2290, 0.8333, 1.2597, 1.5535]])"
     },
     "execution_count": 23,
     "metadata": {},
     "output_type": "execute_result"
    }
   ],
   "source": [
    "# PyTorch\n",
    "# 2) умножим матрицу на себя транспонированную\n",
    "x.mm(x.t())"
   ],
   "metadata": {
    "collapsed": false
   }
  },
  {
   "cell_type": "code",
   "execution_count": 24,
   "outputs": [
    {
     "data": {
      "text/plain": "array([0.67291568, 0.34989723, 0.50644439, 0.34487977, 0.49498633])"
     },
     "execution_count": 24,
     "metadata": {},
     "output_type": "execute_result"
    }
   ],
   "source": [
    "# 3) посчитаем среднее значение матрицы по столбцам\n",
    "a.mean(axis=-1)"
   ],
   "metadata": {
    "collapsed": false
   }
  },
  {
   "cell_type": "code",
   "execution_count": 25,
   "outputs": [
    {
     "data": {
      "text/plain": "tensor([0.6592, 0.5914, 0.4717, 0.6194, 0.6855])"
     },
     "execution_count": 25,
     "metadata": {},
     "output_type": "execute_result"
    }
   ],
   "source": [
    "x.mean(dim=-1)"
   ],
   "metadata": {
    "collapsed": false
   }
  }
 ],
 "metadata": {
  "accelerator": "GPU",
  "colab": {
   "provenance": []
  },
  "gpuClass": "standard",
  "kernelspec": {
   "display_name": "Python 3",
   "name": "python3"
  },
  "language_info": {
   "name": "python"
  }
 },
 "nbformat": 4,
 "nbformat_minor": 0
}
