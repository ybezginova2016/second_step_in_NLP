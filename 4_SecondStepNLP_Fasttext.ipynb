{
  "cells": [
    {
      "cell_type": "markdown",
      "id": "2030c77d",
      "metadata": {
        "id": "2030c77d"
      },
      "source": [
        "# Классификация текстов\n",
        "\n",
        "В этом ноутбуке мы разберем задачу классификации текстов на примере соревнования по выявлению токсичных твиттов: https://www.kaggle.com/competitions/toxic-comments-classification-2\n",
        "\n",
        "Наша задача - построить классификатор, который по тексту твитта определяет, токсичный он или нет.\n",
        "\n",
        "__План:__\n",
        "1. Разбираем/освежаем в памяти простые бейзлайны: мешок слов, TF-IDF. \n",
        "2. Обучаем классификатор на основе w2v эмбеддингов\n",
        "3. Знакомимся с моделью fastText"
      ]
    },
    {
      "cell_type": "code",
      "execution_count": null,
      "id": "9030c990",
      "metadata": {
        "id": "9030c990"
      },
      "outputs": [],
      "source": [
        "import pandas as pd\n",
        "import numpy as np\n",
        "\n",
        "from sklearn.model_selection import train_test_split\n",
        "from sklearn.metrics import *"
      ]
    },
    {
      "cell_type": "markdown",
      "id": "75679484",
      "metadata": {
        "id": "75679484"
      },
      "source": [
        "Обучающая выборка и тестовые данные для предикта - их можно скачать с Kaggle."
      ]
    },
    {
      "cell_type": "code",
      "execution_count": null,
      "id": "f20b688e",
      "metadata": {
        "id": "f20b688e"
      },
      "outputs": [],
      "source": [
        "train = pd.read_csv('train_data.csv')\n",
        "test = pd.read_csv('test_data.csv')"
      ]
    },
    {
      "cell_type": "code",
      "execution_count": null,
      "id": "2a1821de",
      "metadata": {
        "id": "2a1821de",
        "outputId": "18a0b293-dd2d-4a10-8cd1-5e6a21ab2e45"
      },
      "outputs": [
        {
          "data": {
            "text/html": [
              "<div>\n",
              "<style scoped>\n",
              "    .dataframe tbody tr th:only-of-type {\n",
              "        vertical-align: middle;\n",
              "    }\n",
              "\n",
              "    .dataframe tbody tr th {\n",
              "        vertical-align: top;\n",
              "    }\n",
              "\n",
              "    .dataframe thead th {\n",
              "        text-align: right;\n",
              "    }\n",
              "</style>\n",
              "<table border=\"1\" class=\"dataframe\">\n",
              "  <thead>\n",
              "    <tr style=\"text-align: right;\">\n",
              "      <th></th>\n",
              "      <th>comment</th>\n",
              "      <th>toxic</th>\n",
              "    </tr>\n",
              "  </thead>\n",
              "  <tbody>\n",
              "    <tr>\n",
              "      <th>6506</th>\n",
              "      <td>Белоруская операция Багратион проводилась с 23...</td>\n",
              "      <td>0.0</td>\n",
              "    </tr>\n",
              "    <tr>\n",
              "      <th>5303</th>\n",
              "      <td>А какое смешение чувств отразилось на ебженово...</td>\n",
              "      <td>1.0</td>\n",
              "    </tr>\n",
              "    <tr>\n",
              "      <th>3332</th>\n",
              "      <td>Ты в маём серце казёл.\\n</td>\n",
              "      <td>0.0</td>\n",
              "    </tr>\n",
              "  </tbody>\n",
              "</table>\n",
              "</div>"
            ],
            "text/plain": [
              "                                                comment  toxic\n",
              "6506  Белоруская операция Багратион проводилась с 23...    0.0\n",
              "5303  А какое смешение чувств отразилось на ебженово...    1.0\n",
              "3332                           Ты в маём серце казёл.\\n    0.0"
            ]
          },
          "execution_count": 7,
          "metadata": {},
          "output_type": "execute_result"
        }
      ],
      "source": [
        "train.sample(3)"
      ]
    },
    {
      "cell_type": "code",
      "execution_count": null,
      "id": "7207ccc9",
      "metadata": {
        "id": "7207ccc9",
        "outputId": "9c4c7c01-ed62-414f-b5b6-1e54f44d0322"
      },
      "outputs": [
        {
          "data": {
            "text/html": [
              "<div>\n",
              "<style scoped>\n",
              "    .dataframe tbody tr th:only-of-type {\n",
              "        vertical-align: middle;\n",
              "    }\n",
              "\n",
              "    .dataframe tbody tr th {\n",
              "        vertical-align: top;\n",
              "    }\n",
              "\n",
              "    .dataframe thead th {\n",
              "        text-align: right;\n",
              "    }\n",
              "</style>\n",
              "<table border=\"1\" class=\"dataframe\">\n",
              "  <thead>\n",
              "    <tr style=\"text-align: right;\">\n",
              "      <th></th>\n",
              "      <th>comment_id</th>\n",
              "      <th>comment</th>\n",
              "    </tr>\n",
              "  </thead>\n",
              "  <tbody>\n",
              "    <tr>\n",
              "      <th>947</th>\n",
              "      <td>947</td>\n",
              "      <td>Неделю назад держал эту оправу в руках - посме...</td>\n",
              "    </tr>\n",
              "  </tbody>\n",
              "</table>\n",
              "</div>"
            ],
            "text/plain": [
              "     comment_id                                            comment\n",
              "947         947  Неделю назад держал эту оправу в руках - посме..."
            ]
          },
          "execution_count": 8,
          "metadata": {},
          "output_type": "execute_result"
        }
      ],
      "source": [
        "test.sample()"
      ]
    },
    {
      "cell_type": "code",
      "execution_count": null,
      "id": "04f82cdf",
      "metadata": {
        "id": "04f82cdf"
      },
      "outputs": [],
      "source": [
        "#y_test = pd.read_csv('test_labels.csv')"
      ]
    },
    {
      "cell_type": "markdown",
      "id": "4d26ea8d",
      "metadata": {
        "id": "4d26ea8d"
      },
      "source": [
        "В моем распоряжении также есть файл с тестовыми метками классов - если Вы запускаете ноутбук и хотите обучить модель, разбейте train выборку на train и test, раскомментировав строчки кода в ячейке ниже:"
      ]
    },
    {
      "cell_type": "code",
      "execution_count": null,
      "id": "c049a727",
      "metadata": {
        "id": "c049a727"
      },
      "outputs": [],
      "source": [
        "# train, test = train_test_split(x_train, test_size=0.3)\n",
        "# y_test = test[['comment_id', 'toxic']]\n",
        "\n",
        "# test.drop(columns=['toxic'], inplace=True)"
      ]
    },
    {
      "cell_type": "code",
      "execution_count": null,
      "id": "60db0a26",
      "metadata": {
        "id": "60db0a26",
        "outputId": "d288dde9-4797-4c9c-e72c-28d45585b096"
      },
      "outputs": [
        {
          "data": {
            "text/html": [
              "<div>\n",
              "<style scoped>\n",
              "    .dataframe tbody tr th:only-of-type {\n",
              "        vertical-align: middle;\n",
              "    }\n",
              "\n",
              "    .dataframe tbody tr th {\n",
              "        vertical-align: top;\n",
              "    }\n",
              "\n",
              "    .dataframe thead th {\n",
              "        text-align: right;\n",
              "    }\n",
              "</style>\n",
              "<table border=\"1\" class=\"dataframe\">\n",
              "  <thead>\n",
              "    <tr style=\"text-align: right;\">\n",
              "      <th></th>\n",
              "      <th>comment_id</th>\n",
              "      <th>toxic</th>\n",
              "    </tr>\n",
              "  </thead>\n",
              "  <tbody>\n",
              "    <tr>\n",
              "      <th>2570</th>\n",
              "      <td>2570</td>\n",
              "      <td>0</td>\n",
              "    </tr>\n",
              "  </tbody>\n",
              "</table>\n",
              "</div>"
            ],
            "text/plain": [
              "      comment_id  toxic\n",
              "2570        2570      0"
            ]
          },
          "execution_count": 21,
          "metadata": {},
          "output_type": "execute_result"
        }
      ],
      "source": [
        "y_test.sample()"
      ]
    },
    {
      "cell_type": "code",
      "execution_count": null,
      "id": "0669e67d",
      "metadata": {
        "id": "0669e67d",
        "outputId": "ade156b7-2a36-4016-9054-aa0f2cc67579"
      },
      "outputs": [
        {
          "data": {
            "text/plain": [
              "array([0, 0, 0, ..., 1, 0, 0])"
            ]
          },
          "execution_count": 23,
          "metadata": {},
          "output_type": "execute_result"
        }
      ],
      "source": [
        "y_test = y_test['toxic'].values\n",
        "y_test"
      ]
    },
    {
      "cell_type": "markdown",
      "id": "e02e2872",
      "metadata": {
        "id": "e02e2872"
      },
      "source": [
        "### Мы начнем с простых бейзлайнов\n",
        "\n",
        "Это всегда хорошая практика - сперва попробовать что-то предельно простое (: В нашем случае это будет логистическая регрессия + мешок слов (Bag of Words, BoW)."
      ]
    },
    {
      "cell_type": "code",
      "execution_count": null,
      "id": "27a39c66",
      "metadata": {
        "id": "27a39c66"
      },
      "outputs": [],
      "source": [
        "from sklearn.linear_model import LogisticRegression \n",
        "from sklearn.feature_extraction.text import CountVectorizer"
      ]
    },
    {
      "cell_type": "code",
      "execution_count": null,
      "id": "2a77a0ad",
      "metadata": {
        "id": "2a77a0ad"
      },
      "outputs": [],
      "source": [
        "vec = CountVectorizer(ngram_range=(1, 1), token_pattern='\\w{3,}') # строим BoW для слов"
      ]
    },
    {
      "cell_type": "code",
      "execution_count": null,
      "id": "a1b06944",
      "metadata": {
        "id": "a1b06944"
      },
      "outputs": [],
      "source": [
        "#help(CountVectorizer)"
      ]
    },
    {
      "cell_type": "code",
      "execution_count": null,
      "id": "ceb7fddd",
      "metadata": {
        "id": "ceb7fddd"
      },
      "outputs": [],
      "source": [
        "bow = vec.fit_transform(train['comment'])"
      ]
    },
    {
      "cell_type": "code",
      "execution_count": null,
      "id": "55ce9d6d",
      "metadata": {
        "id": "55ce9d6d",
        "outputId": "91368063-1faf-4aac-92c7-0abfd32600b2"
      },
      "outputs": [
        {
          "data": {
            "text/plain": [
              "<10809x55942 sparse matrix of type '<class 'numpy.int64'>'\n",
              "\twith 210108 stored elements in Compressed Sparse Row format>"
            ]
          },
          "execution_count": 14,
          "metadata": {},
          "output_type": "execute_result"
        }
      ],
      "source": [
        "bow"
      ]
    },
    {
      "cell_type": "code",
      "execution_count": null,
      "id": "88082337",
      "metadata": {
        "id": "88082337",
        "outputId": "397cd29d-14c1-403d-8593-63b7e92e2969"
      },
      "outputs": [
        {
          "name": "stdout",
          "output_type": "stream",
          "text": [
            "А у мамы в группе до самого выпуска из сада такие просяки нет-нет, да случаются, с разными детьми. Только для одних детей это разовая акция, у других - время от времени, а у третьих - частенько. И родители прекрасно в курсе особенностей каждого конкретного ребенка.\n",
            "\n"
          ]
        }
      ],
      "source": [
        "print(train.comment[10804])"
      ]
    },
    {
      "cell_type": "code",
      "execution_count": null,
      "id": "62211fe4",
      "metadata": {
        "id": "62211fe4",
        "outputId": "48257972-6149-495b-c0cd-e3b0a0fe3ced"
      },
      "outputs": [
        {
          "data": {
            "text/plain": [
              "[('преступление', 37067),\n",
              " ('наказание', 24836),\n",
              " ('именно', 16509),\n",
              " ('эти', 55542),\n",
              " ('неработающие', 26582),\n",
              " ('весы', 5914),\n",
              " ('показывают', 34521),\n",
              " ('что', 54262),\n",
              " ('работающих', 39917),\n",
              " ('нет', 26702)]"
            ]
          },
          "execution_count": 16,
          "metadata": {},
          "output_type": "execute_result"
        }
      ],
      "source": [
        "list(vec.vocabulary_.items())[:10]"
      ]
    },
    {
      "cell_type": "code",
      "execution_count": null,
      "id": "bd6c6604",
      "metadata": {
        "id": "bd6c6604",
        "outputId": "66c8a45b-c0c3-4139-9c8d-732f197e66a5"
      },
      "outputs": [
        {
          "data": {
            "text/plain": [
              "[('000', 0),\n",
              " ('0015', 1),\n",
              " ('003', 2),\n",
              " ('0036', 3),\n",
              " ('005', 4),\n",
              " ('00х', 5),\n",
              " ('013', 6),\n",
              " ('030050', 7),\n",
              " ('0611', 8),\n",
              " ('068', 9)]"
            ]
          },
          "execution_count": 17,
          "metadata": {},
          "output_type": "execute_result"
        }
      ],
      "source": [
        "sorted(list(vec.vocabulary_.items()), key=lambda x: x[0])[:10]"
      ]
    },
    {
      "cell_type": "code",
      "execution_count": null,
      "id": "fea6341f",
      "metadata": {
        "id": "fea6341f",
        "outputId": "44eb4885-49d2-4a29-d617-5de9b7734e91"
      },
      "outputs": [
        {
          "data": {
            "text/plain": [
              "['преступление',\n",
              " 'наказание',\n",
              " 'именно',\n",
              " 'эти',\n",
              " 'неработающие',\n",
              " 'весы',\n",
              " 'показывают',\n",
              " 'что',\n",
              " 'работающих',\n",
              " 'нет']"
            ]
          },
          "execution_count": 18,
          "metadata": {},
          "output_type": "execute_result"
        }
      ],
      "source": [
        "list(vec.vocabulary_.keys())[:10]"
      ]
    },
    {
      "cell_type": "code",
      "execution_count": null,
      "id": "406ba520",
      "metadata": {
        "id": "406ba520",
        "outputId": "3f558ce3-3409-4ff5-cb9a-e1b193d044bc"
      },
      "outputs": [
        {
          "data": {
            "text/plain": [
              "55942"
            ]
          },
          "execution_count": 19,
          "metadata": {},
          "output_type": "execute_result"
        }
      ],
      "source": [
        "len(vec.vocabulary_.items())"
      ]
    },
    {
      "cell_type": "code",
      "execution_count": null,
      "id": "fe2b33cc",
      "metadata": {
        "scrolled": true,
        "id": "fe2b33cc",
        "outputId": "c5880c6e-2ed9-492b-f115-179df11d1d8f"
      },
      "outputs": [
        {
          "data": {
            "text/plain": [
              "array([0, 0, 0, ..., 1, 0, 0])"
            ]
          },
          "execution_count": 25,
          "metadata": {},
          "output_type": "execute_result"
        }
      ],
      "source": [
        "y_train = train['toxic'].astype(int).values\n",
        "y_train"
      ]
    },
    {
      "cell_type": "code",
      "execution_count": null,
      "id": "595dc253",
      "metadata": {
        "id": "595dc253"
      },
      "outputs": [],
      "source": [
        "#help(clf.fit)"
      ]
    },
    {
      "cell_type": "code",
      "execution_count": null,
      "id": "1c0b19df",
      "metadata": {
        "id": "1c0b19df",
        "outputId": "a11a826f-1227-4ca6-ed3e-955d4d57f0a0"
      },
      "outputs": [
        {
          "data": {
            "text/plain": [
              "LogisticRegression(max_iter=500, random_state=42)"
            ]
          },
          "execution_count": 26,
          "metadata": {},
          "output_type": "execute_result"
        }
      ],
      "source": [
        "clf = LogisticRegression(random_state=42, max_iter=500) #\n",
        "clf.fit(bow, y_train)"
      ]
    },
    {
      "cell_type": "code",
      "execution_count": null,
      "id": "9a8950b4",
      "metadata": {
        "id": "9a8950b4",
        "outputId": "c18c63a3-308c-4001-e3a0-69592826fe9e"
      },
      "outputs": [
        {
          "data": {
            "text/plain": [
              "55942"
            ]
          },
          "execution_count": 27,
          "metadata": {},
          "output_type": "execute_result"
        }
      ],
      "source": [
        "len(clf.coef_[0])"
      ]
    },
    {
      "cell_type": "code",
      "execution_count": null,
      "id": "5533eadd",
      "metadata": {
        "id": "5533eadd",
        "outputId": "cdaab4c0-3021-4b29-8cf2-d62a3c09d504"
      },
      "outputs": [
        {
          "data": {
            "text/plain": [
              "<3603x55942 sparse matrix of type '<class 'numpy.int64'>'\n",
              "\twith 59233 stored elements in Compressed Sparse Row format>"
            ]
          },
          "execution_count": 28,
          "metadata": {},
          "output_type": "execute_result"
        }
      ],
      "source": [
        "bow_test = vec.transform(test['comment'])\n",
        "bow_test"
      ]
    },
    {
      "cell_type": "code",
      "execution_count": null,
      "id": "066d598f",
      "metadata": {
        "id": "066d598f",
        "outputId": "10362249-97e3-44b5-f1db-8905f3a60ffc"
      },
      "outputs": [
        {
          "data": {
            "text/plain": [
              "array([0, 0, 0, 0, 0, 0, 0, 0, 1, 0])"
            ]
          },
          "execution_count": 29,
          "metadata": {},
          "output_type": "execute_result"
        }
      ],
      "source": [
        "pred = clf.predict(bow_test)\n",
        "pred[:10]"
      ]
    },
    {
      "cell_type": "code",
      "execution_count": null,
      "id": "0315c21c",
      "metadata": {
        "id": "0315c21c",
        "outputId": "d1fc4da2-fb5a-4d6e-ed0f-972fc60e57c0"
      },
      "outputs": [
        {
          "name": "stdout",
          "output_type": "stream",
          "text": [
            "              precision    recall  f1-score   support\n",
            "\n",
            "           0       0.94      0.84      0.89      2651\n",
            "           1       0.66      0.84      0.74       952\n",
            "\n",
            "    accuracy                           0.84      3603\n",
            "   macro avg       0.80      0.84      0.81      3603\n",
            "weighted avg       0.86      0.84      0.85      3603\n",
            "\n"
          ]
        }
      ],
      "source": [
        "print(classification_report(pred, y_test))"
      ]
    },
    {
      "cell_type": "markdown",
      "id": "8aa5c4b1",
      "metadata": {
        "id": "8aa5c4b1"
      },
      "source": [
        "### Попробуем добавить препроцессинг текста\n",
        "\n",
        "Препроцессинг, как правило, включает удаление небуквенных символов, топ-слов и нормализацию (стемминг - приведение к основе слова - или лемматизацию - приведение слов к начальной форме).\n",
        "\n",
        "Кроме того, заменим мешок слов на TF-IDF матрицу. В качестве модели оставим логистическую регрессию."
      ]
    },
    {
      "cell_type": "code",
      "execution_count": null,
      "id": "4a75b52c",
      "metadata": {
        "id": "4a75b52c"
      },
      "outputs": [],
      "source": [
        "from sklearn.feature_extraction.text import TfidfVectorizer"
      ]
    },
    {
      "cell_type": "code",
      "execution_count": null,
      "id": "ad514542",
      "metadata": {
        "id": "ad514542"
      },
      "outputs": [],
      "source": [
        "#!pip install pymorphy2"
      ]
    },
    {
      "cell_type": "code",
      "execution_count": null,
      "id": "ea71a32a",
      "metadata": {
        "id": "ea71a32a"
      },
      "outputs": [],
      "source": [
        "#import nltk\n",
        "#nltk.download('stopwords')"
      ]
    },
    {
      "cell_type": "markdown",
      "id": "1d879db0",
      "metadata": {
        "id": "1d879db0"
      },
      "source": [
        "Функция для удаления небуквенных символов из текста:"
      ]
    },
    {
      "cell_type": "code",
      "execution_count": null,
      "id": "a2958b5a",
      "metadata": {
        "id": "a2958b5a"
      },
      "outputs": [],
      "source": [
        "import re\n",
        "from pymorphy2 import MorphAnalyzer\n",
        "from nltk.corpus import stopwords\n",
        "\n",
        "from functools import lru_cache\n",
        "from tqdm.notebook import tqdm\n",
        "\n",
        "m = MorphAnalyzer()\n",
        "regex = re.compile(\"[а-яa-zёЁ]+\")\n",
        "\n",
        "def words_only(text, regex=regex):\n",
        "    try:\n",
        "        return regex.findall(text.lower())\n",
        "    except:\n",
        "        return []"
      ]
    },
    {
      "cell_type": "code",
      "execution_count": null,
      "id": "e805d0b6",
      "metadata": {
        "id": "e805d0b6",
        "outputId": "794c693a-ab5c-43c1-96b4-67e1b0a62661"
      },
      "outputs": [
        {
          "data": {
            "text/plain": [
              "'И именно эти неработающие весы показывают, что работающих нет?..\\n'"
            ]
          },
          "execution_count": 35,
          "metadata": {},
          "output_type": "execute_result"
        }
      ],
      "source": [
        "train.comment[1]"
      ]
    },
    {
      "cell_type": "code",
      "execution_count": null,
      "id": "826d2eec",
      "metadata": {
        "scrolled": true,
        "id": "826d2eec",
        "outputId": "4cf3cdfc-f20f-46fa-e1ab-a32b8889badd"
      },
      "outputs": [
        {
          "data": {
            "text/plain": [
              "['и',\n",
              " 'именно',\n",
              " 'эти',\n",
              " 'неработающие',\n",
              " 'весы',\n",
              " 'показывают',\n",
              " 'что',\n",
              " 'работающих',\n",
              " 'нет']"
            ]
          },
          "execution_count": 38,
          "metadata": {},
          "output_type": "execute_result"
        }
      ],
      "source": [
        "words_only(train.comment[1])"
      ]
    },
    {
      "cell_type": "markdown",
      "id": "3cbea389",
      "metadata": {
        "id": "3cbea389"
      },
      "source": [
        "Функции для препроцессинга текста: \n",
        "\n",
        "1. Удаление небуквенных символов\n",
        "2. Лемматизация \n",
        "3. Удаление коротких (менее 3 символов) и стоп-слов"
      ]
    },
    {
      "cell_type": "code",
      "execution_count": null,
      "id": "58a2fee8",
      "metadata": {
        "id": "58a2fee8"
      },
      "outputs": [],
      "source": [
        "@lru_cache(maxsize=128)\n",
        "def lemmatize_word(token, pymorphy=m):\n",
        "    return pymorphy.parse(token)[0].normal_form\n",
        "\n",
        "def lemmatize_text(text):\n",
        "    return [lemmatize_word(w) for w in text]\n",
        "\n",
        "\n",
        "mystopwords = stopwords.words('russian') \n",
        "def remove_stopwords(lemmas, stopwords = mystopwords):\n",
        "    return [w for w in lemmas if not w in stopwords and len(w) > 3]\n",
        "\n",
        "def clean_text(text):\n",
        "    tokens = words_only(text)\n",
        "    lemmas = lemmatize_text(tokens)\n",
        "    \n",
        "    return ' '.join(remove_stopwords(lemmas))"
      ]
    },
    {
      "cell_type": "code",
      "execution_count": null,
      "id": "d19590af",
      "metadata": {
        "id": "d19590af",
        "outputId": "d8875e4b-3b95-4a40-e751-a787411aea8b"
      },
      "outputs": [
        {
          "name": "stdout",
          "output_type": "stream",
          "text": [
            "CPU times: user 476 µs, sys: 1 µs, total: 477 µs\n",
            "Wall time: 483 µs\n"
          ]
        },
        {
          "data": {
            "text/plain": [
              "'неработающий'"
            ]
          },
          "execution_count": 42,
          "metadata": {},
          "output_type": "execute_result"
        }
      ],
      "source": [
        "%time lemmatize_word('неработающие')"
      ]
    },
    {
      "cell_type": "code",
      "execution_count": null,
      "id": "e9aa9da8",
      "metadata": {
        "id": "e9aa9da8",
        "outputId": "9c510945-ff6b-4ef8-865c-401e476e88ff"
      },
      "outputs": [
        {
          "data": {
            "text/plain": [
              "'И именно эти неработающие весы показывают, что работающих нет?..\\n'"
            ]
          },
          "execution_count": 43,
          "metadata": {},
          "output_type": "execute_result"
        }
      ],
      "source": [
        "train.comment[1]"
      ]
    },
    {
      "cell_type": "code",
      "execution_count": null,
      "id": "716f4ba1",
      "metadata": {
        "scrolled": true,
        "id": "716f4ba1",
        "outputId": "3c2fce51-e742-4066-b54c-d56b6b8d8743"
      },
      "outputs": [
        {
          "data": {
            "text/plain": [
              "'именно неработающий весы показывать работать'"
            ]
          },
          "execution_count": 44,
          "metadata": {},
          "output_type": "execute_result"
        }
      ],
      "source": [
        "clean_text(train.comment[1])"
      ]
    },
    {
      "cell_type": "markdown",
      "id": "7b0931f5",
      "metadata": {
        "id": "7b0931f5"
      },
      "source": [
        "Проводим препроцессинг для train и test выборок:"
      ]
    },
    {
      "cell_type": "code",
      "execution_count": null,
      "id": "1b7459d9",
      "metadata": {
        "id": "1b7459d9",
        "outputId": "a8c87943-35ed-4b29-a198-a761fec92775",
        "colab": {
          "referenced_widgets": [
            "8df70dfa24e44b0b947754268a0d11ec"
          ]
        }
      },
      "outputs": [
        {
          "data": {
            "application/vnd.jupyter.widget-view+json": {
              "model_id": "8df70dfa24e44b0b947754268a0d11ec",
              "version_major": 2,
              "version_minor": 0
            },
            "text/plain": [
              "  0%|          | 0/10809 [00:00<?, ?it/s]"
            ]
          },
          "metadata": {},
          "output_type": "display_data"
        },
        {
          "data": {
            "text/html": [
              "<div>\n",
              "<style scoped>\n",
              "    .dataframe tbody tr th:only-of-type {\n",
              "        vertical-align: middle;\n",
              "    }\n",
              "\n",
              "    .dataframe tbody tr th {\n",
              "        vertical-align: top;\n",
              "    }\n",
              "\n",
              "    .dataframe thead th {\n",
              "        text-align: right;\n",
              "    }\n",
              "</style>\n",
              "<table border=\"1\" class=\"dataframe\">\n",
              "  <thead>\n",
              "    <tr style=\"text-align: right;\">\n",
              "      <th></th>\n",
              "      <th>comment</th>\n",
              "      <th>toxic</th>\n",
              "      <th>lemmas</th>\n",
              "    </tr>\n",
              "  </thead>\n",
              "  <tbody>\n",
              "    <tr>\n",
              "      <th>2743</th>\n",
              "      <td>забанили в дойта трете за ету картинку.... иди...</td>\n",
              "      <td>0.0</td>\n",
              "      <td>забанить дойта тереть картинка идти туда запос...</td>\n",
              "    </tr>\n",
              "    <tr>\n",
              "      <th>9640</th>\n",
              "      <td>3 января возможно, на жд например так даты исп...</td>\n",
              "      <td>0.0</td>\n",
              "      <td>январь возможно например дата использоваться</td>\n",
              "    </tr>\n",
              "    <tr>\n",
              "      <th>7937</th>\n",
              "      <td>Вот и гляньте все что вокруг дна это пустота, ...</td>\n",
              "      <td>0.0</td>\n",
              "      <td>глянуть вокруг пустота использоваться полка пр...</td>\n",
              "    </tr>\n",
              "    <tr>\n",
              "      <th>8737</th>\n",
              "      <td>Сижу, любуюсь шрамом диаметром 10мм на руке. Ш...</td>\n",
              "      <td>0.0</td>\n",
              "      <td>сидеть любоваться шрам диаметр рука шрам украш...</td>\n",
              "    </tr>\n",
              "    <tr>\n",
              "      <th>6173</th>\n",
              "      <td>Один кондей дешевле чем каналка. Мощности толь...</td>\n",
              "      <td>0.0</td>\n",
              "      <td>кондей дешёвый каналка мощность номер весь зда...</td>\n",
              "    </tr>\n",
              "  </tbody>\n",
              "</table>\n",
              "</div>"
            ],
            "text/plain": [
              "                                                comment  toxic  \\\n",
              "2743  забанили в дойта трете за ету картинку.... иди...    0.0   \n",
              "9640  3 января возможно, на жд например так даты исп...    0.0   \n",
              "7937  Вот и гляньте все что вокруг дна это пустота, ...    0.0   \n",
              "8737  Сижу, любуюсь шрамом диаметром 10мм на руке. Ш...    0.0   \n",
              "6173  Один кондей дешевле чем каналка. Мощности толь...    0.0   \n",
              "\n",
              "                                                 lemmas  \n",
              "2743  забанить дойта тереть картинка идти туда запос...  \n",
              "9640       январь возможно например дата использоваться  \n",
              "7937  глянуть вокруг пустота использоваться полка пр...  \n",
              "8737  сидеть любоваться шрам диаметр рука шрам украш...  \n",
              "6173  кондей дешёвый каналка мощность номер весь зда...  "
            ]
          },
          "execution_count": 47,
          "metadata": {},
          "output_type": "execute_result"
        }
      ],
      "source": [
        "lemmas = list(tqdm(map(clean_text, train['comment']), total=len(train)))\n",
        "    \n",
        "train['lemmas'] = lemmas\n",
        "train.sample(5)"
      ]
    },
    {
      "cell_type": "code",
      "execution_count": null,
      "id": "a3817bcc",
      "metadata": {
        "id": "a3817bcc",
        "outputId": "f26ca5a3-bc03-409f-b7b3-003f3b0b35aa",
        "colab": {
          "referenced_widgets": [
            "ffe08b10c8d44763adf9d69cafd5ae11"
          ]
        }
      },
      "outputs": [
        {
          "data": {
            "application/vnd.jupyter.widget-view+json": {
              "model_id": "ffe08b10c8d44763adf9d69cafd5ae11",
              "version_major": 2,
              "version_minor": 0
            },
            "text/plain": [
              "  0%|          | 0/3603 [00:00<?, ?it/s]"
            ]
          },
          "metadata": {},
          "output_type": "display_data"
        }
      ],
      "source": [
        "lemmas_test = list(tqdm(map(clean_text, test['comment']), total=len(test)))\n",
        "    \n",
        "test['lemmas'] = lemmas_test"
      ]
    },
    {
      "cell_type": "markdown",
      "id": "d5936169",
      "metadata": {
        "id": "d5936169"
      },
      "source": [
        "Считаем TF-IDF матрицу и обучаем модель:"
      ]
    },
    {
      "cell_type": "code",
      "execution_count": null,
      "id": "d9866256",
      "metadata": {
        "id": "d9866256",
        "outputId": "c7fbfe4c-9e1d-4d67-dbd7-f8489f7fe36a"
      },
      "outputs": [
        {
          "data": {
            "text/plain": [
              "0.8245906189286706"
            ]
          },
          "execution_count": 50,
          "metadata": {},
          "output_type": "execute_result"
        }
      ],
      "source": [
        "vec = TfidfVectorizer(ngram_range=(1, 2)) # строим BoW для слов\n",
        "tfidf = vec.fit_transform(train['lemmas'])\n",
        "\n",
        "clf = LogisticRegression(random_state=42, max_iter=500)\n",
        "clf.fit(tfidf, y_train)\n",
        "\n",
        "pred = clf.predict(vec.transform(test['lemmas']))\n",
        "accuracy_score(pred, y_test)"
      ]
    },
    {
      "cell_type": "code",
      "execution_count": null,
      "id": "41481730",
      "metadata": {
        "id": "41481730",
        "outputId": "34d44bf4-a2a4-420e-f1b0-510931ebe4a3"
      },
      "outputs": [
        {
          "name": "stdout",
          "output_type": "stream",
          "text": [
            "              precision    recall  f1-score   support\n",
            "\n",
            "           0       0.98      0.80      0.88      2925\n",
            "           1       0.52      0.93      0.67       678\n",
            "\n",
            "    accuracy                           0.82      3603\n",
            "   macro avg       0.75      0.87      0.77      3603\n",
            "weighted avg       0.89      0.82      0.84      3603\n",
            "\n"
          ]
        }
      ],
      "source": [
        "print(classification_report(pred, y_test))"
      ]
    },
    {
      "cell_type": "markdown",
      "id": "b265301c",
      "metadata": {
        "id": "b265301c"
      },
      "source": [
        "## Word2Vec\n",
        "\n",
        "Попробуем использовать эмбеддинги слов - для этого сперва обучим модель Word2Vec c помощью библиотеки gensim."
      ]
    },
    {
      "cell_type": "code",
      "execution_count": null,
      "id": "b096313b",
      "metadata": {
        "id": "b096313b"
      },
      "outputs": [],
      "source": [
        "from gensim.models import word2vec"
      ]
    },
    {
      "cell_type": "code",
      "execution_count": null,
      "id": "d0dfa851",
      "metadata": {
        "id": "d0dfa851",
        "outputId": "c8dc745e-fb50-4c84-8c7c-72d068e5530d"
      },
      "outputs": [
        {
          "data": {
            "text/html": [
              "<div>\n",
              "<style scoped>\n",
              "    .dataframe tbody tr th:only-of-type {\n",
              "        vertical-align: middle;\n",
              "    }\n",
              "\n",
              "    .dataframe tbody tr th {\n",
              "        vertical-align: top;\n",
              "    }\n",
              "\n",
              "    .dataframe thead th {\n",
              "        text-align: right;\n",
              "    }\n",
              "</style>\n",
              "<table border=\"1\" class=\"dataframe\">\n",
              "  <thead>\n",
              "    <tr style=\"text-align: right;\">\n",
              "      <th></th>\n",
              "      <th>comment</th>\n",
              "      <th>toxic</th>\n",
              "      <th>lemmas</th>\n",
              "    </tr>\n",
              "  </thead>\n",
              "  <tbody>\n",
              "    <tr>\n",
              "      <th>2580</th>\n",
              "      <td>Во имя оболганного Отца, гонимого Сына и опаль...</td>\n",
              "      <td>1.0</td>\n",
              "      <td>оболгать отец гонимый опальный здравый смысл о...</td>\n",
              "    </tr>\n",
              "  </tbody>\n",
              "</table>\n",
              "</div>"
            ],
            "text/plain": [
              "                                                comment  toxic  \\\n",
              "2580  Во имя оболганного Отца, гонимого Сына и опаль...    1.0   \n",
              "\n",
              "                                                 lemmas  \n",
              "2580  оболгать отец гонимый опальный здравый смысл о...  "
            ]
          },
          "execution_count": 54,
          "metadata": {},
          "output_type": "execute_result"
        }
      ],
      "source": [
        "train.sample()"
      ]
    },
    {
      "cell_type": "code",
      "execution_count": null,
      "id": "179d12d6",
      "metadata": {
        "id": "179d12d6"
      },
      "outputs": [],
      "source": [
        "#help( word2vec.Word2Vec)"
      ]
    },
    {
      "cell_type": "code",
      "execution_count": null,
      "id": "4bea504c",
      "metadata": {
        "id": "4bea504c",
        "outputId": "b6a578ad-02c4-454e-cdf7-324e93a864fc"
      },
      "outputs": [
        {
          "name": "stdout",
          "output_type": "stream",
          "text": [
            "CPU times: user 997 ms, sys: 6.05 ms, total: 1 s\n",
            "Wall time: 356 ms\n"
          ]
        }
      ],
      "source": [
        "tokenized_tweets = [tweet.split() for tweet in train['lemmas'].values]\n",
        "\n",
        "%time w2v = word2vec.Word2Vec(tokenized_tweets, workers=4, vector_size=200, min_count=10, window=3, sample=1e-3)"
      ]
    },
    {
      "cell_type": "code",
      "execution_count": null,
      "id": "ba0aeb03",
      "metadata": {
        "id": "ba0aeb03",
        "outputId": "9813ed70-8ef1-41b9-d06b-79e2ab1d9cb2"
      },
      "outputs": [
        {
          "data": {
            "text/plain": [
              "[('результат', 0.999779224395752),\n",
              " ('процент', 0.9997552037239075),\n",
              " ('использовать', 0.9997541308403015),\n",
              " ('интернет', 0.9997532367706299),\n",
              " ('российский', 0.9997491240501404),\n",
              " ('пройти', 0.9997482299804688),\n",
              " ('особенно', 0.9997453093528748),\n",
              " ('родитель', 0.9997445940971375),\n",
              " ('итог', 0.9997416734695435),\n",
              " ('ремонт', 0.9997414946556091)]"
            ]
          },
          "execution_count": 90,
          "metadata": {},
          "output_type": "execute_result"
        }
      ],
      "source": [
        "w2v.wv.most_similar(positive=['плюс'], topn=10)"
      ]
    },
    {
      "cell_type": "markdown",
      "id": "d9d94c62",
      "metadata": {
        "id": "d9d94c62"
      },
      "source": [
        "Теперь у нас есть эмбеддинги для слов. Но как получить эмбеддинги для твитов?\n",
        "\n",
        "Можно просто усреднить эмбеддинги слов, входящих в твит."
      ]
    },
    {
      "cell_type": "code",
      "execution_count": null,
      "id": "cdcc4776",
      "metadata": {
        "id": "cdcc4776"
      },
      "outputs": [],
      "source": [
        "def get_tweet_embedding(lemmas, model=w2v.wv, embedding_size=200):\n",
        "    \n",
        "    res = np.zeros(embedding_size)\n",
        "    cnt = 0\n",
        "    for word in lemmas.split():\n",
        "        if word in model:\n",
        "            res += np.array(model[word])\n",
        "            cnt += 1\n",
        "    if cnt:\n",
        "        res = res / cnt\n",
        "    return res"
      ]
    },
    {
      "cell_type": "code",
      "execution_count": null,
      "id": "13d34161",
      "metadata": {
        "id": "13d34161",
        "outputId": "21eb9010-3ae8-459a-c8c1-60fb3179ea73"
      },
      "outputs": [
        {
          "data": {
            "text/plain": [
              "array([ 0.02949993,  0.00711666,  0.06066887,  0.03044587,  0.10291898,\n",
              "       -0.07171509, -0.04426383,  0.17461261, -0.06926171,  0.10137955,\n",
              "       -0.09722775, -0.10701384,  0.02675423,  0.04505605, -0.03336318,\n",
              "       -0.06858105, -0.09589617, -0.01504105,  0.08262346, -0.16852067,\n",
              "        0.09995066, -0.112864  , -0.00117192,  0.03875624,  0.02932889,\n",
              "       -0.07457103, -0.0108106 , -0.08021963, -0.16292173,  0.05479762,\n",
              "        0.09130507,  0.04518832,  0.01549321, -0.01175892,  0.05495853,\n",
              "        0.05215223,  0.11390019,  0.00301457,  0.00722505, -0.12864642,\n",
              "       -0.08600076, -0.00843721,  0.01221396,  0.09540205,  0.14712787,\n",
              "       -0.02386563, -0.06534632, -0.00829514,  0.07441702,  0.04880077,\n",
              "        0.05805714, -0.01788091, -0.06644073, -0.07768032, -0.00920226,\n",
              "       -0.04443413,  0.03236924, -0.12367389, -0.10502499, -0.02312545,\n",
              "       -0.03215751,  0.01574282, -0.0707434 ,  0.04139043, -0.10889189,\n",
              "        0.04811262,  0.00269111,  0.1813492 , -0.10731281,  0.10752298,\n",
              "        0.00360128,  0.02788929,  0.09087786, -0.01453409,  0.01432448,\n",
              "        0.00187869,  0.06463442, -0.1491686 , -0.1671669 , -0.04935573,\n",
              "       -0.03997945, -0.05005499, -0.05912872,  0.12608564, -0.04667118,\n",
              "       -0.01151567, -0.03204609,  0.10316698, -0.01329044,  0.00873739,\n",
              "        0.03807793,  0.08658916,  0.05769266,  0.09536004,  0.1562559 ,\n",
              "        0.05195177,  0.04764642, -0.05120456,  0.06386379,  0.0867281 ,\n",
              "       -0.15130816,  0.18136637,  0.05920847, -0.07755169, -0.09911663,\n",
              "       -0.14463823,  0.09374224,  0.12673408, -0.02697572, -0.1337364 ,\n",
              "       -0.04539865, -0.12719622, -0.04128319, -0.03315019,  0.06462175,\n",
              "       -0.05625001,  0.04109512, -0.20093986,  0.00096907, -0.08758704,\n",
              "        0.02700914,  0.1217986 ,  0.1294644 , -0.06011119, -0.03286562,\n",
              "        0.08982017, -0.07892357, -0.05280122,  0.02288249, -0.05357718,\n",
              "        0.0399028 ,  0.02824211, -0.07434157, -0.05330449, -0.03681052,\n",
              "        0.06720147, -0.09027759, -0.13887796, -0.02625239, -0.21745721,\n",
              "        0.08548516, -0.09468896, -0.05772493, -0.07091227, -0.07416455,\n",
              "       -0.0459544 , -0.12418707,  0.07974795, -0.01041391,  0.02732568,\n",
              "       -0.00812132, -0.09857442,  0.00633385,  0.08377564, -0.08331937,\n",
              "        0.16192973,  0.05816776,  0.09486361, -0.09192655,  0.03108642,\n",
              "        0.11038385,  0.09153921, -0.07913659, -0.0368869 ,  0.01789881,\n",
              "        0.06374946,  0.02309147, -0.11704163, -0.01812864,  0.05018592,\n",
              "       -0.10717524,  0.08597601,  0.04867915, -0.11210193,  0.08264795,\n",
              "        0.09320631, -0.0857667 ,  0.07583582,  0.06273258,  0.0385837 ,\n",
              "        0.02723162,  0.01989792,  0.00300663,  0.035901  ,  0.05668876,\n",
              "        0.0057615 , -0.06538035,  0.02379666,  0.15909122,  0.07898577,\n",
              "        0.12643126, -0.08889993, -0.05297007, -0.08022884,  0.09459483,\n",
              "        0.0555612 ,  0.01473577, -0.1102022 , -0.02976556, -0.03017349])"
            ]
          },
          "execution_count": 116,
          "metadata": {},
          "output_type": "execute_result"
        }
      ],
      "source": [
        "get_tweet_embedding('привет тебе')"
      ]
    },
    {
      "cell_type": "markdown",
      "id": "da1a6bd0",
      "metadata": {
        "id": "da1a6bd0"
      },
      "source": [
        "Для каждого твита из обучающей и тестовой выборки вычислим такой эмбеддинг:"
      ]
    },
    {
      "cell_type": "code",
      "execution_count": null,
      "id": "0a181933",
      "metadata": {
        "id": "0a181933"
      },
      "outputs": [],
      "source": [
        "train['w2v_embedding'] = train['lemmas'].map(get_tweet_embedding)\n",
        "test['w2v_embedding'] = test['lemmas'].map(get_tweet_embedding)"
      ]
    },
    {
      "cell_type": "code",
      "execution_count": null,
      "id": "b8891446",
      "metadata": {
        "id": "b8891446",
        "outputId": "6f9361e0-c690-47ce-e89a-11f66abd33f8"
      },
      "outputs": [
        {
          "data": {
            "text/plain": [
              "0.6697196780460727"
            ]
          },
          "execution_count": 123,
          "metadata": {},
          "output_type": "execute_result"
        }
      ],
      "source": [
        "clf = LogisticRegression(random_state=42, max_iter=500)\n",
        "clf.fit(list(train['w2v_embedding'].values), y_train)\n",
        "\n",
        "pred = clf.predict(list(test['w2v_embedding'].values))\n",
        "accuracy_score(pred, y_test)"
      ]
    },
    {
      "cell_type": "code",
      "execution_count": null,
      "id": "dea27561",
      "metadata": {
        "id": "dea27561",
        "outputId": "a3b4ec3c-8c31-41bf-eae8-379d07f8bf74"
      },
      "outputs": [
        {
          "name": "stdout",
          "output_type": "stream",
          "text": [
            "              precision    recall  f1-score   support\n",
            "\n",
            "           0       0.98      0.67      0.80      3467\n",
            "           1       0.07      0.60      0.12       136\n",
            "\n",
            "    accuracy                           0.67      3603\n",
            "   macro avg       0.52      0.64      0.46      3603\n",
            "weighted avg       0.94      0.67      0.77      3603\n",
            "\n"
          ]
        }
      ],
      "source": [
        "print(classification_report(pred, y_test))"
      ]
    },
    {
      "cell_type": "markdown",
      "id": "c7ab4b0c",
      "metadata": {
        "id": "c7ab4b0c"
      },
      "source": [
        "## FastText\n",
        "\n",
        "FastText - это модификация модели word2vec.\n",
        "\n",
        "FastText использует не только векторы слов, но и векторы n-грам. В корпусе каждое слово автоматически представляется в виде набора символьных n-грамм. Скажем, если мы установим n=3, то вектор для слова \"where\" будет представлен суммой векторов следующих триграм: \"<wh\", \"whe\", \"her\", \"ere\", \"re>\" (где \"<\" и \">\" символы, обозначающие начало и конец слова). Благодаря этому мы можем также получать вектора для слов, отсутствуюших в словаре, а также эффективно работать с текстами, содержащими ошибки и опечатки.\n",
        "\n",
        "* [Статья](https://aclweb.org/anthology/Q17-1010)\n",
        "* [Сайт](https://fasttext.cc/)\n",
        "* [Руководство](https://fasttext.cc/docs/en/support.html)\n",
        "* [Репозиторий](https://github.com/facebookresearch/fasttext)\n",
        "\n",
        "Есть библиотека `fasttext` для питона (с готовыми моделями можно работать и через `gensim`).\n",
        "\n",
        "На сайте проекта можно найти предобученные модели для 157 языков (в том числе русского): https://fasttext.cc/docs/en/crawl-vectors.html\n",
        "\n",
        "Для начала, попробуем взять предобученную модель fastText с сайта проекта и заменить эмбеддинги в модели выше на эмбеддинги fastText.\n",
        "\n",
        "Бонус: попробуйте взять модель с сайта проекта Rusvetores: https://rusvectores.org/ru/models/"
      ]
    },
    {
      "cell_type": "code",
      "execution_count": null,
      "id": "bf59099c",
      "metadata": {
        "id": "bf59099c",
        "outputId": "2fb7a5ef-3c66-4571-c07c-442e2578d08b"
      },
      "outputs": [
        {
          "name": "stdout",
          "output_type": "stream",
          "text": [
            "Found existing installation: fasttext 0.9.2\n",
            "Uninstalling fasttext-0.9.2:\n",
            "  Successfully uninstalled fasttext-0.9.2\n",
            "Collecting fasttext==0.6.0\n",
            "  Using cached fasttext-0.6.0-cp39-cp39-macosx_10_9_x86_64.whl\n",
            "Requirement already satisfied: numpy>=1 in /Users/veronica/opt/anaconda3/lib/python3.9/site-packages (from fasttext==0.6.0) (1.20.3)\n",
            "Installing collected packages: fasttext\n",
            "Successfully installed fasttext-0.6.0\n"
          ]
        }
      ],
      "source": [
        "#!pip install fasttext==0.6.0"
      ]
    },
    {
      "cell_type": "code",
      "execution_count": null,
      "id": "a7f34ece",
      "metadata": {
        "id": "a7f34ece"
      },
      "outputs": [],
      "source": [
        "import fasttext\n",
        "import fasttext.util"
      ]
    },
    {
      "cell_type": "code",
      "execution_count": null,
      "id": "6351bfa4",
      "metadata": {
        "id": "6351bfa4",
        "outputId": "812fba0e-3715-46aa-b91b-5465d0c75db1"
      },
      "outputs": [
        {
          "name": "stdout",
          "output_type": "stream",
          "text": [
            "Help on function download_model in module fasttext.util.util:\n",
            "\n",
            "download_model(lang_id, if_exists='strict', dimension=None)\n",
            "    Download pre-trained common-crawl vectors from fastText's website\n",
            "    https://fasttext.cc/docs/en/crawl-vectors.html\n",
            "\n"
          ]
        }
      ],
      "source": [
        "help(fasttext.util.download_model)"
      ]
    },
    {
      "cell_type": "code",
      "execution_count": null,
      "id": "67a29039",
      "metadata": {
        "scrolled": true,
        "id": "67a29039",
        "outputId": "677169a3-4f8d-4ab5-ca5b-6b31efde5ccd"
      },
      "outputs": [
        {
          "name": "stderr",
          "output_type": "stream",
          "text": [
            "Warning : `load_model` does not return WordVectorModel or SupervisedModel any more, but a `FastText` object which is very similar.\n"
          ]
        }
      ],
      "source": [
        "#fasttext.util.download_model('ru', if_exists='ignore')\n",
        "ft = fasttext.load_model('cc.ru.300.bin')"
      ]
    },
    {
      "cell_type": "code",
      "execution_count": null,
      "id": "e7b979af",
      "metadata": {
        "id": "e7b979af",
        "outputId": "4f65c9e8-bb9d-44b3-c982-8b193e922306"
      },
      "outputs": [
        {
          "data": {
            "text/plain": [
              "array([ 0.06434693, -0.01527086, -0.06963537, -0.03582602,  0.01471584,\n",
              "       -0.03503159,  0.02701715,  0.04161827, -0.00033126,  0.00355259,\n",
              "        0.06979205,  0.06205348,  0.05154078,  0.03831509, -0.02394784,\n",
              "       -0.03954181, -0.00189653, -0.11174394, -0.0407712 ,  0.09289949,\n",
              "       -0.07412342, -0.05209147,  0.02017231,  0.04837443,  0.02212641,\n",
              "        0.00856511, -0.03055364,  0.04733564,  0.04380886,  0.03856769,\n",
              "        0.03442968,  0.05576854,  0.01513439,  0.14055566,  0.03365337,\n",
              "       -0.02920472, -0.10305687, -0.09332671,  0.03085899, -0.11067575,\n",
              "       -0.08992791,  0.05850704, -0.017424  ,  0.00120653, -0.07153153,\n",
              "        0.10312843, -0.08066262, -0.00642456,  0.04408539, -0.05728461,\n",
              "       -0.0179531 ,  0.03936698,  0.04778077, -0.04907751, -0.00909553,\n",
              "        0.05588715, -0.00236535,  0.04878682, -0.01769035,  0.03295048,\n",
              "        0.00906604,  0.08772802,  0.02970458, -0.04903899, -0.03025401,\n",
              "       -0.04151824,  0.04931813, -0.02804473,  0.05716789,  0.03559401,\n",
              "       -0.12191223,  0.02087349, -0.05121018, -0.0584691 , -0.04781278,\n",
              "       -0.06298476, -0.00432743, -0.03785646, -0.08833752, -0.0375172 ,\n",
              "        0.04602968,  0.02096615,  0.00321184, -0.00927999, -0.00288017,\n",
              "        0.04345381, -0.0330169 ,  0.00840916, -0.05537616, -0.02134524,\n",
              "       -0.03705332,  0.06453154, -0.01733523, -0.01977487, -0.02836509,\n",
              "        0.01901042,  0.04043126, -0.07048826, -0.09381784, -0.02532577,\n",
              "       -0.02679786,  0.01097633, -0.01681483, -0.08134623,  0.00429079,\n",
              "       -0.07213577, -0.03950587,  0.07274695, -0.00337509,  0.05469057,\n",
              "       -0.01510826, -0.05297935,  0.04232059, -0.04494021, -0.01873806,\n",
              "        0.02970697, -0.02128338, -0.07461107,  0.04457341,  0.02913763,\n",
              "       -0.05406609,  0.06825955, -0.0423348 , -0.01933457,  0.00638132,\n",
              "        0.00075826,  0.10154837, -0.06699109, -0.01374834,  0.10683898,\n",
              "        0.06719182,  0.00299954,  0.03092229, -0.01919586,  0.02315286,\n",
              "        0.02552165,  0.0297376 ,  0.0476847 , -0.06794806,  0.01934321,\n",
              "        0.07793375,  0.04631811,  0.07487484, -0.06923444, -0.09797966,\n",
              "       -0.02230856,  0.04383751,  0.05814477,  0.09182699,  0.0407513 ,\n",
              "        0.06562199,  0.06420117, -0.12618978, -0.00895569, -0.03637737,\n",
              "        0.0323772 ,  0.05442533,  0.02233687,  0.0607053 , -0.03511162,\n",
              "       -0.02011008, -0.04657565, -0.1363746 , -0.09366813, -0.01257268,\n",
              "       -0.0822741 ,  0.04026463,  0.08941573,  0.05416025, -0.00148568,\n",
              "        0.02470817, -0.01521165,  0.06688396,  0.01970377, -0.067048  ,\n",
              "        0.05173868, -0.06437217,  0.02638604,  0.02355881, -0.03286408,\n",
              "       -0.01542088,  0.0226214 ,  0.01009578, -0.06503511,  0.05164307,\n",
              "        0.08621447, -0.00291589,  0.0201317 ,  0.05789564,  0.04330945,\n",
              "       -0.01468945,  0.00915974,  0.02692279,  0.07124459, -0.05370982,\n",
              "        0.04218086,  0.00314814,  0.00356758, -0.02068229,  0.0604349 ,\n",
              "       -0.08158811,  0.04939371,  0.0430281 , -0.03372736, -0.0558867 ,\n",
              "        0.00376545, -0.037087  ,  0.05940549,  0.02495521, -0.00334628,\n",
              "        0.01005986, -0.02053031,  0.01179219,  0.07010209, -0.10397089,\n",
              "        0.07733957,  0.06056703,  0.01003617, -0.15787463, -0.01765688,\n",
              "        0.00765593, -0.01905038,  0.01327723,  0.01084452, -0.05930451,\n",
              "       -0.07062402, -0.08540855,  0.01374613, -0.03077546, -0.04025275,\n",
              "        0.00268231, -0.06844234,  0.05945092,  0.02234607,  0.14669767,\n",
              "        0.03161074, -0.03626112,  0.13065669, -0.02795461,  0.00260858,\n",
              "        0.02103085, -0.01555263,  0.02790887, -0.02395738, -0.10259839,\n",
              "       -0.01162906,  0.07939966,  0.01229805,  0.0472665 ,  0.00792722,\n",
              "        0.07495239, -0.04777352,  0.02290227, -0.02349729, -0.01035224,\n",
              "       -0.04128299, -0.05037197, -0.02936148, -0.03995599, -0.09582971,\n",
              "        0.00652219, -0.00309965,  0.09921778, -0.07993053, -0.07525942,\n",
              "       -0.03148453, -0.03216294,  0.00986726, -0.03059178, -0.01402058,\n",
              "        0.02519003, -0.04734642,  0.12286284, -0.09953459,  0.01202545,\n",
              "        0.03934894,  0.07455902,  0.02744922,  0.03999532, -0.05147249,\n",
              "       -0.0055727 ,  0.07064351,  0.07526451,  0.00223117,  0.01765039,\n",
              "       -0.02785274,  0.0251571 ,  0.05081079,  0.06183068, -0.03087618,\n",
              "       -0.00268458, -0.02822061, -0.05344585, -0.05139395,  0.00151552,\n",
              "       -0.01931686,  0.00034288, -0.01423903,  0.00377267, -0.0598783 ],\n",
              "      dtype=float32)"
            ]
          },
          "execution_count": 144,
          "metadata": {},
          "output_type": "execute_result"
        }
      ],
      "source": [
        "ft['привет']"
      ]
    },
    {
      "cell_type": "code",
      "execution_count": null,
      "id": "79361593",
      "metadata": {
        "scrolled": true,
        "id": "79361593",
        "outputId": "09ff9af1-6942-445c-91c5-0a3ac54f7f80"
      },
      "outputs": [
        {
          "data": {
            "text/plain": [
              "array([ 2.84749218e-02,  1.14055865e-02, -1.54750008e-02,  6.10717852e-03,\n",
              "       -5.42343501e-03,  2.83443742e-03,  2.40256451e-03,  1.29073053e-02,\n",
              "        3.05031866e-02, -1.99234379e-02,  6.13203850e-02,  4.42768331e-02,\n",
              "        2.71531800e-02, -1.02064133e-02,  9.22483567e-04,  2.50384058e-02,\n",
              "       -1.25383004e-02, -4.89095808e-02, -3.07890818e-02,  1.01918663e-01,\n",
              "       -2.85800546e-02, -1.05811988e-01, -1.28629373e-02,  2.95597422e-02,\n",
              "        2.13206490e-03,  1.26906892e-02, -2.97227059e-02,  2.77029723e-02,\n",
              "       -1.21254625e-02, -4.76178443e-02, -6.68591424e-03,  3.05985650e-02,\n",
              "        3.59081652e-02,  1.02970391e-01,  3.62780495e-02, -5.56655712e-02,\n",
              "       -1.11200343e-01, -1.16946280e-01,  4.69890856e-02, -5.79430675e-02,\n",
              "       -4.56299540e-03, -2.32621958e-03, -2.30524363e-03,  1.96370891e-02,\n",
              "       -1.68996924e-02,  4.77626729e-02, -7.71877861e-02,  2.95996453e-02,\n",
              "        3.40769021e-02, -3.43663241e-02,  5.55797149e-02,  1.05126291e-02,\n",
              "        9.77615127e-03,  3.99762448e-02, -2.15159254e-02,  1.93620831e-02,\n",
              "       -1.34500194e-02,  2.17238814e-03,  1.39238648e-02, -1.24853794e-02,\n",
              "       -5.08000248e-02,  6.46954067e-02,  3.07824350e-02, -4.07074159e-02,\n",
              "       -1.99913508e-02,  1.96010725e-02, -1.52623175e-02, -1.58499312e-02,\n",
              "       -4.72955415e-02,  4.77682170e-03, -5.21384678e-02,  3.73177927e-02,\n",
              "       -3.41336881e-02,  5.90577209e-03,  6.41630217e-03, -2.70765051e-02,\n",
              "       -5.57585534e-02, -9.87857254e-03, -1.75393135e-02, -3.92743144e-02,\n",
              "        2.59191706e-02,  3.97690022e-02,  5.75262937e-03, -4.60929359e-02,\n",
              "        3.89499759e-03,  3.79725420e-02, -6.47511277e-02,  5.06016524e-02,\n",
              "        1.29573480e-02,  9.16208606e-04, -1.10791333e-01, -1.59734851e-02,\n",
              "        4.38956684e-03, -5.00591882e-02, -1.91273557e-02, -1.31234950e-02,\n",
              "        4.23284452e-02, -1.32317897e-02, -9.03501306e-02,  4.14077961e-02,\n",
              "       -9.01901850e-03,  7.61899361e-02, -1.04387742e-02, -1.22785277e-02,\n",
              "       -1.63511078e-02, -3.89259742e-02,  4.25888405e-02,  2.55549918e-02,\n",
              "        7.98778998e-03,  9.49782273e-03, -3.10476529e-02, -1.09063331e-02,\n",
              "        8.43151626e-02, -3.58087434e-02, -1.24211812e-02, -1.87083688e-02,\n",
              "       -5.45124998e-02, -8.86561619e-02,  3.79863534e-02, -3.31068560e-02,\n",
              "       -4.89519509e-02,  7.88756466e-02, -5.50974393e-02,  1.60968699e-02,\n",
              "        1.01266545e-03,  2.75706507e-02,  5.04551297e-02, -1.64009025e-02,\n",
              "        1.19224258e-02,  6.78465860e-02,  2.69761501e-02,  1.12457192e-02,\n",
              "        1.86175751e-02, -1.40191410e-02, -1.72757215e-02,  5.70655339e-02,\n",
              "        5.77574829e-04,  5.24380505e-02, -5.08161918e-03,  3.53807122e-02,\n",
              "       -1.40902330e-02,  2.29508245e-02,  6.68836981e-02, -2.08306434e-02,\n",
              "       -5.37150722e-02, -9.75077925e-03, -4.46044868e-02,  3.50373158e-02,\n",
              "        5.37473205e-02,  2.23793560e-02,  3.78368636e-02,  1.91988172e-02,\n",
              "       -9.24861385e-02,  1.07819675e-02, -1.21989548e-02,  3.31418150e-02,\n",
              "        2.23143799e-02,  1.49282608e-02,  1.40205264e-02, -2.72367133e-02,\n",
              "       -2.69449629e-02,  2.49509839e-03, -5.19380664e-02, -6.78124642e-02,\n",
              "       -6.38052975e-02,  1.68222875e-02, -7.74696337e-02,  8.44685482e-02,\n",
              "        4.74610087e-02, -2.62326931e-03, -9.03137206e-03, -6.54254213e-02,\n",
              "        4.35586069e-02,  3.72354283e-02, -3.41950073e-02, -1.16772181e-02,\n",
              "       -3.14856721e-02,  6.10582798e-02,  4.79020393e-02, -4.82062241e-02,\n",
              "       -1.99088580e-02,  3.10592290e-02, -4.53291640e-02, -6.53951182e-02,\n",
              "        6.01363019e-04,  3.27027021e-02,  1.47671076e-02, -3.70643544e-02,\n",
              "       -2.04997172e-02,  5.32348915e-02, -4.50411410e-02,  1.28656339e-02,\n",
              "        3.19320844e-02,  1.45057300e-02, -1.72404865e-02,  3.71150244e-02,\n",
              "       -2.15479551e-02, -1.15545052e-02, -1.25362631e-02,  2.60218652e-02,\n",
              "       -4.58280314e-02,  7.53374584e-03,  7.35389721e-03, -1.82377142e-02,\n",
              "       -9.48007656e-02, -2.56354164e-02,  5.40375593e-04,  4.41152531e-02,\n",
              "       -7.10717402e-04,  4.32135077e-03,  2.78144046e-02, -4.11721691e-03,\n",
              "       -8.98516446e-04,  5.58417288e-02, -3.63211357e-02, -6.08586776e-03,\n",
              "        3.32013650e-02,  3.86003682e-02, -4.08708490e-02,  1.05813891e-02,\n",
              "        1.79253643e-02,  3.97888436e-02,  3.22979216e-02,  1.34046650e-02,\n",
              "       -3.69763831e-02,  3.80074000e-02, -3.84184653e-02, -1.46874161e-02,\n",
              "        1.31309093e-02, -1.08475601e-02,  1.34081137e-02, -1.17426082e-02,\n",
              "        1.28444180e-01, -2.20539912e-02,  1.15903737e-01,  5.90186799e-03,\n",
              "        1.24620628e-02,  7.31505433e-02, -7.99386785e-03,  3.64330948e-02,\n",
              "        3.45786135e-02,  3.46622248e-02,  2.36364873e-03, -7.05305371e-02,\n",
              "       -5.42092409e-02, -8.53608083e-03, -5.25069842e-03, -6.02257324e-02,\n",
              "        2.03989604e-02, -1.16195149e-02,  9.21856882e-02, -6.69648121e-02,\n",
              "        7.29324436e-03,  2.93620190e-02,  6.43402617e-02,  1.59824028e-02,\n",
              "        2.18187862e-02, -1.51119323e-03, -8.90493509e-03, -1.16167957e-01,\n",
              "        3.43116624e-02, -2.22888631e-02,  6.75987527e-02,  2.60055298e-02,\n",
              "       -2.21864720e-02, -2.88950545e-02,  5.87026319e-02,  5.31624537e-05,\n",
              "        4.37127347e-02, -3.44873604e-02,  1.45444367e-02,  4.66503901e-04,\n",
              "        1.16275493e-01, -7.23772724e-02,  3.08836906e-02,  3.09007196e-03,\n",
              "        1.63774043e-02,  1.35315594e-02,  3.91931003e-02, -3.61349685e-02,\n",
              "        8.19852925e-04,  2.57454347e-04,  6.94709985e-03,  1.86907215e-02,\n",
              "       -3.81673360e-03,  1.24494154e-02, -2.23289109e-02, -3.35482652e-02,\n",
              "       -4.22900976e-02,  2.49405606e-02,  4.42143134e-03,  5.85364044e-03,\n",
              "        3.19063303e-03, -4.88638142e-02, -1.23414861e-02, -1.29953995e-02,\n",
              "        1.96110924e-02,  1.76430468e-02,  9.77955939e-03, -1.76622996e-02])"
            ]
          },
          "execution_count": 151,
          "metadata": {},
          "output_type": "execute_result"
        }
      ],
      "source": [
        "x = 'привет всем слушателям курса'\n",
        "get_tweet_embedding(x, model=ft, embedding_size=300)"
      ]
    },
    {
      "cell_type": "code",
      "execution_count": null,
      "id": "b456c690",
      "metadata": {
        "id": "b456c690",
        "outputId": "476b6ede-da2c-41ce-885d-d413035dc1ce"
      },
      "outputs": [
        {
          "name": "stdout",
          "output_type": "stream",
          "text": [
            "train done\n"
          ]
        }
      ],
      "source": [
        "train['ft_embedding'] = train['lemmas'].apply(lambda x: get_tweet_embedding(x, model=ft, embedding_size=300))\n",
        "print('train done')\n",
        "\n",
        "test['ft_embedding'] = test['lemmas'].apply(lambda x: get_tweet_embedding(x, model=ft, embedding_size=300))"
      ]
    },
    {
      "cell_type": "code",
      "execution_count": null,
      "id": "8ce51cc2",
      "metadata": {
        "id": "8ce51cc2",
        "outputId": "79fcb2a6-c331-4cc6-cc9a-373f6ae63ce6"
      },
      "outputs": [
        {
          "data": {
            "text/plain": [
              "0.8709408825978351"
            ]
          },
          "execution_count": 153,
          "metadata": {},
          "output_type": "execute_result"
        }
      ],
      "source": [
        "clf = LogisticRegression(random_state=42, max_iter=500)\n",
        "clf.fit(list(train['ft_embedding'].values), y_train)\n",
        "\n",
        "pred = clf.predict(list(test['ft_embedding'].values))\n",
        "accuracy_score(pred, y_test)"
      ]
    },
    {
      "cell_type": "code",
      "execution_count": null,
      "id": "ec94c142",
      "metadata": {
        "id": "ec94c142",
        "outputId": "9102714c-349e-48d6-8df2-77af56b21cbc"
      },
      "outputs": [
        {
          "name": "stdout",
          "output_type": "stream",
          "text": [
            "              precision    recall  f1-score   support\n",
            "\n",
            "           0       0.95      0.87      0.91      2618\n",
            "           1       0.71      0.88      0.79       985\n",
            "\n",
            "    accuracy                           0.87      3603\n",
            "   macro avg       0.83      0.87      0.85      3603\n",
            "weighted avg       0.89      0.87      0.87      3603\n",
            "\n"
          ]
        }
      ],
      "source": [
        "print(classification_report(pred, y_test))"
      ]
    },
    {
      "cell_type": "markdown",
      "id": "bfc720f5",
      "metadata": {
        "id": "bfc720f5"
      },
      "source": [
        "### fastText как классификатор\n",
        "\n",
        "fastText также можно использовать в режиме классификатора:"
      ]
    },
    {
      "cell_type": "code",
      "execution_count": null,
      "id": "75b009d0",
      "metadata": {
        "id": "75b009d0",
        "outputId": "ce751cfb-87fe-47bc-c2b8-eceffe0510a0"
      },
      "outputs": [
        {
          "data": {
            "text/html": [
              "<div>\n",
              "<style scoped>\n",
              "    .dataframe tbody tr th:only-of-type {\n",
              "        vertical-align: middle;\n",
              "    }\n",
              "\n",
              "    .dataframe tbody tr th {\n",
              "        vertical-align: top;\n",
              "    }\n",
              "\n",
              "    .dataframe thead th {\n",
              "        text-align: right;\n",
              "    }\n",
              "</style>\n",
              "<table border=\"1\" class=\"dataframe\">\n",
              "  <thead>\n",
              "    <tr style=\"text-align: right;\">\n",
              "      <th></th>\n",
              "      <th>comment</th>\n",
              "      <th>toxic</th>\n",
              "      <th>lemmas</th>\n",
              "      <th>w2v_embedding</th>\n",
              "      <th>ft_embedding</th>\n",
              "    </tr>\n",
              "  </thead>\n",
              "  <tbody>\n",
              "    <tr>\n",
              "      <th>5404</th>\n",
              "      <td>да ну, кем считается то? у нас, швабов, пожест...</td>\n",
              "      <td>1.0</td>\n",
              "      <td>считаться шваб жёсткий лично думать</td>\n",
              "      <td>[0.05510629341006279, 0.010897617496084422, 0....</td>\n",
              "      <td>[0.04708024859428406, 0.0034161420539021493, 0...</td>\n",
              "    </tr>\n",
              "  </tbody>\n",
              "</table>\n",
              "</div>"
            ],
            "text/plain": [
              "                                                comment  toxic  \\\n",
              "5404  да ну, кем считается то? у нас, швабов, пожест...    1.0   \n",
              "\n",
              "                                   lemmas  \\\n",
              "5404  считаться шваб жёсткий лично думать   \n",
              "\n",
              "                                          w2v_embedding  \\\n",
              "5404  [0.05510629341006279, 0.010897617496084422, 0....   \n",
              "\n",
              "                                           ft_embedding  \n",
              "5404  [0.04708024859428406, 0.0034161420539021493, 0...  "
            ]
          },
          "execution_count": 156,
          "metadata": {},
          "output_type": "execute_result"
        }
      ],
      "source": [
        "train.sample()"
      ]
    },
    {
      "cell_type": "code",
      "execution_count": null,
      "id": "5670c42f",
      "metadata": {
        "id": "5670c42f"
      },
      "outputs": [],
      "source": [
        "with open('train_ft.txt', 'w') as f:\n",
        "    for label, lemmas in list(zip(\n",
        "        train['toxic'], train['lemmas']\n",
        "    )):\n",
        "        f.write(f\"__label__{int(label)} {lemmas}\\n\")\n",
        "        #print(f\"__label__{int(label)} {lemmas}\")\n",
        "\n",
        "with open('test_ft.txt', 'w') as f:\n",
        "    for label, lemmas in list(zip(\n",
        "        train['toxic'], train['lemmas']\n",
        "    )):\n",
        "        f.write(f\"__label__{int(label)} {lemmas}\\n\")"
      ]
    },
    {
      "cell_type": "code",
      "execution_count": null,
      "id": "e746da36",
      "metadata": {
        "id": "e746da36",
        "outputId": "d9721554-5683-4f16-d974-b5297b29983f"
      },
      "outputs": [
        {
          "name": "stdout",
          "output_type": "stream",
          "text": [
            "__label__0 операция спирт тампон скальпель доктор выбрасывать пригодиться\r\n",
            "__label__0 думать уместить знание мочь дать любой родитель домашний условие\r\n",
            "__label__1 татарин народец гнилой весьма весьма\r\n",
            "__label__0 красиво постановка театральный рыжий китайский очень доставить\r\n",
            "__label__0 печально близкий нормальный любящий человек превращаться\r\n",
            "__label__0 мама группа выпуск просяк случаться разный ребёнок ребёнок разовый акция время время третий частенько родитель прекрасно курс особенность каждый конкретный ребёнок\r\n",
            "__label__1 сука тупой дегенарта видео съести свой старый куколд жухлый сморчок друг друг теребить\r\n",
            "__label__1 племя украинец особенно западный детство прививаться мысль самый умный ловко наебал значит молодец понятие подлость честь отсутствовать нацело поэтому маленький дружок весь твой натужный изворотливость работать пообщаться пять минута любой россия понять сорт иметь дело услышать мягкий акцент твой речь\r\n",
            "__label__0 пост жадность человек оплатить предоставить халява человек предвкушать\r\n",
            "__label__0 компенсация проезд место отдых положить закон север оплата путёвка полететь турция купить оплатить назад начальник получать очень неплохо регион\r\n"
          ]
        }
      ],
      "source": [
        "!tail train_ft.txt"
      ]
    },
    {
      "cell_type": "code",
      "execution_count": null,
      "id": "3eb04345",
      "metadata": {
        "id": "3eb04345"
      },
      "outputs": [],
      "source": [
        "#help(fasttext.train_supervised)"
      ]
    },
    {
      "cell_type": "code",
      "execution_count": null,
      "id": "941a3a02",
      "metadata": {
        "id": "941a3a02",
        "outputId": "6b223cfe-9455-47fe-9073-802e2ced6862"
      },
      "outputs": [
        {
          "name": "stdout",
          "output_type": "stream",
          "text": [
            "P@1: 0.9790914978258858\n",
            "R@1: 0.9790914978258858\n",
            "Number of examples: 10809\n"
          ]
        },
        {
          "name": "stderr",
          "output_type": "stream",
          "text": [
            "\r",
            "Read 0M words\n",
            "Number of words:  26960\n",
            "Number of labels: 2\n",
            "\r",
            "Progress: 100.0% words/sec/thread: 1260163 lr: -0.000020 avg.loss:  0.295754 ETA:   0h 0m 0s\r",
            "Progress: 100.0% words/sec/thread: 1258741 lr:  0.000000 avg.loss:  0.295754 ETA:   0h 0m 0s\n"
          ]
        }
      ],
      "source": [
        "classifier = fasttext.train_supervised('train_ft.txt')#, 'model')\n",
        "result = classifier.test('test_ft.txt')\n",
        "print('P@1:', result[1])#.precision)\n",
        "print('R@1:', result[2])#.recall)\n",
        "print('Number of examples:', result[0])#.nexamples)"
      ]
    },
    {
      "cell_type": "code",
      "execution_count": null,
      "id": "45b6b5bc",
      "metadata": {
        "id": "45b6b5bc",
        "outputId": "28b91aa8-578f-4e91-d880-aa2b759a9aab"
      },
      "outputs": [
        {
          "data": {
            "text/plain": [
              "0.8717735220649458"
            ]
          },
          "execution_count": 168,
          "metadata": {},
          "output_type": "execute_result"
        }
      ],
      "source": [
        "pred = classifier.predict(list(test['lemmas']))[0]\n",
        "pred = [int(label[0][-1]) for label in pred]\n",
        "\n",
        "accuracy_score(list(y_test), pred)"
      ]
    },
    {
      "cell_type": "code",
      "execution_count": null,
      "id": "2a121f45",
      "metadata": {
        "id": "2a121f45"
      },
      "outputs": [],
      "source": []
    }
  ],
  "metadata": {
    "kernelspec": {
      "display_name": "Python 3 (ipykernel)",
      "language": "python",
      "name": "python3"
    },
    "language_info": {
      "codemirror_mode": {
        "name": "ipython",
        "version": 3
      },
      "file_extension": ".py",
      "mimetype": "text/x-python",
      "name": "python",
      "nbconvert_exporter": "python",
      "pygments_lexer": "ipython3",
      "version": "3.9.7"
    },
    "colab": {
      "provenance": []
    }
  },
  "nbformat": 4,
  "nbformat_minor": 5
}