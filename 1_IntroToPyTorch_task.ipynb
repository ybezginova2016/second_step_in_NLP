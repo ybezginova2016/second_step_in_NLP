{
 "cells": [
  {
   "cell_type": "markdown",
   "source": [
    "# Знакомство с PyTorch"
   ],
   "metadata": {
    "id": "r_a9kwC_ISKE"
   }
  },
  {
   "cell_type": "markdown",
   "metadata": {
    "id": "i1hv5i-PkRLO"
   },
   "source": [
    "Сейчас мы познакомимся с библиотекой *PyTorch*. Он очень похож на *NumPy*, и сейчас вы в этом убедитесь!\n",
    "\n",
    "А почему именно *PyTorch*? Почитать можно [здесь](https://habr.com/ru/post/334380/)."
   ]
  },
  {
   "cell_type": "markdown",
   "source": [
    "## Вспоминаем *NumPy* и сравниваем операции в *PyTorch*"
   ],
   "metadata": {
    "id": "A7GbQRcUIkT4"
   }
  },
  {
   "cell_type": "code",
   "execution_count": 9,
   "outputs": [],
   "source": [
    "from torchvision import models"
   ],
   "metadata": {
    "collapsed": false
   }
  },
  {
   "cell_type": "code",
   "execution_count": 10,
   "outputs": [
    {
     "data": {
      "text/plain": "['AlexNet',\n 'AlexNet_Weights',\n 'ConvNeXt',\n 'ConvNeXt_Base_Weights',\n 'ConvNeXt_Large_Weights',\n 'ConvNeXt_Small_Weights',\n 'ConvNeXt_Tiny_Weights',\n 'DenseNet',\n 'DenseNet121_Weights',\n 'DenseNet161_Weights',\n 'DenseNet169_Weights',\n 'DenseNet201_Weights',\n 'EfficientNet',\n 'EfficientNet_B0_Weights',\n 'EfficientNet_B1_Weights',\n 'EfficientNet_B2_Weights',\n 'EfficientNet_B3_Weights',\n 'EfficientNet_B4_Weights',\n 'EfficientNet_B5_Weights',\n 'EfficientNet_B6_Weights',\n 'EfficientNet_B7_Weights',\n 'EfficientNet_V2_L_Weights',\n 'EfficientNet_V2_M_Weights',\n 'EfficientNet_V2_S_Weights',\n 'GoogLeNet',\n 'GoogLeNetOutputs',\n 'GoogLeNet_Weights',\n 'Inception3',\n 'InceptionOutputs',\n 'Inception_V3_Weights',\n 'MNASNet',\n 'MNASNet0_5_Weights',\n 'MNASNet0_75_Weights',\n 'MNASNet1_0_Weights',\n 'MNASNet1_3_Weights',\n 'MaxVit',\n 'MaxVit_T_Weights',\n 'MobileNetV2',\n 'MobileNetV3',\n 'MobileNet_V2_Weights',\n 'MobileNet_V3_Large_Weights',\n 'MobileNet_V3_Small_Weights',\n 'RegNet',\n 'RegNet_X_16GF_Weights',\n 'RegNet_X_1_6GF_Weights',\n 'RegNet_X_32GF_Weights',\n 'RegNet_X_3_2GF_Weights',\n 'RegNet_X_400MF_Weights',\n 'RegNet_X_800MF_Weights',\n 'RegNet_X_8GF_Weights',\n 'RegNet_Y_128GF_Weights',\n 'RegNet_Y_16GF_Weights',\n 'RegNet_Y_1_6GF_Weights',\n 'RegNet_Y_32GF_Weights',\n 'RegNet_Y_3_2GF_Weights',\n 'RegNet_Y_400MF_Weights',\n 'RegNet_Y_800MF_Weights',\n 'RegNet_Y_8GF_Weights',\n 'ResNeXt101_32X8D_Weights',\n 'ResNeXt101_64X4D_Weights',\n 'ResNeXt50_32X4D_Weights',\n 'ResNet',\n 'ResNet101_Weights',\n 'ResNet152_Weights',\n 'ResNet18_Weights',\n 'ResNet34_Weights',\n 'ResNet50_Weights',\n 'ShuffleNetV2',\n 'ShuffleNet_V2_X0_5_Weights',\n 'ShuffleNet_V2_X1_0_Weights',\n 'ShuffleNet_V2_X1_5_Weights',\n 'ShuffleNet_V2_X2_0_Weights',\n 'SqueezeNet',\n 'SqueezeNet1_0_Weights',\n 'SqueezeNet1_1_Weights',\n 'SwinTransformer',\n 'Swin_B_Weights',\n 'Swin_S_Weights',\n 'Swin_T_Weights',\n 'Swin_V2_B_Weights',\n 'Swin_V2_S_Weights',\n 'Swin_V2_T_Weights',\n 'VGG',\n 'VGG11_BN_Weights',\n 'VGG11_Weights',\n 'VGG13_BN_Weights',\n 'VGG13_Weights',\n 'VGG16_BN_Weights',\n 'VGG16_Weights',\n 'VGG19_BN_Weights',\n 'VGG19_Weights',\n 'ViT_B_16_Weights',\n 'ViT_B_32_Weights',\n 'ViT_H_14_Weights',\n 'ViT_L_16_Weights',\n 'ViT_L_32_Weights',\n 'VisionTransformer',\n 'Wide_ResNet101_2_Weights',\n 'Wide_ResNet50_2_Weights',\n '_GoogLeNetOutputs',\n '_InceptionOutputs',\n '__builtins__',\n '__cached__',\n '__doc__',\n '__file__',\n '__loader__',\n '__name__',\n '__package__',\n '__path__',\n '__spec__',\n '_api',\n '_meta',\n '_utils',\n 'alexnet',\n 'convnext',\n 'convnext_base',\n 'convnext_large',\n 'convnext_small',\n 'convnext_tiny',\n 'densenet',\n 'densenet121',\n 'densenet161',\n 'densenet169',\n 'densenet201',\n 'detection',\n 'efficientnet',\n 'efficientnet_b0',\n 'efficientnet_b1',\n 'efficientnet_b2',\n 'efficientnet_b3',\n 'efficientnet_b4',\n 'efficientnet_b5',\n 'efficientnet_b6',\n 'efficientnet_b7',\n 'efficientnet_v2_l',\n 'efficientnet_v2_m',\n 'efficientnet_v2_s',\n 'get_model',\n 'get_model_builder',\n 'get_model_weights',\n 'get_weight',\n 'googlenet',\n 'inception',\n 'inception_v3',\n 'list_models',\n 'maxvit',\n 'maxvit_t',\n 'mnasnet',\n 'mnasnet0_5',\n 'mnasnet0_75',\n 'mnasnet1_0',\n 'mnasnet1_3',\n 'mobilenet',\n 'mobilenet_v2',\n 'mobilenet_v3_large',\n 'mobilenet_v3_small',\n 'mobilenetv2',\n 'mobilenetv3',\n 'optical_flow',\n 'quantization',\n 'regnet',\n 'regnet_x_16gf',\n 'regnet_x_1_6gf',\n 'regnet_x_32gf',\n 'regnet_x_3_2gf',\n 'regnet_x_400mf',\n 'regnet_x_800mf',\n 'regnet_x_8gf',\n 'regnet_y_128gf',\n 'regnet_y_16gf',\n 'regnet_y_1_6gf',\n 'regnet_y_32gf',\n 'regnet_y_3_2gf',\n 'regnet_y_400mf',\n 'regnet_y_800mf',\n 'regnet_y_8gf',\n 'resnet',\n 'resnet101',\n 'resnet152',\n 'resnet18',\n 'resnet34',\n 'resnet50',\n 'resnext101_32x8d',\n 'resnext101_64x4d',\n 'resnext50_32x4d',\n 'segmentation',\n 'shufflenet_v2_x0_5',\n 'shufflenet_v2_x1_0',\n 'shufflenet_v2_x1_5',\n 'shufflenet_v2_x2_0',\n 'shufflenetv2',\n 'squeezenet',\n 'squeezenet1_0',\n 'squeezenet1_1',\n 'swin_b',\n 'swin_s',\n 'swin_t',\n 'swin_transformer',\n 'swin_v2_b',\n 'swin_v2_s',\n 'swin_v2_t',\n 'vgg',\n 'vgg11',\n 'vgg11_bn',\n 'vgg13',\n 'vgg13_bn',\n 'vgg16',\n 'vgg16_bn',\n 'vgg19',\n 'vgg19_bn',\n 'video',\n 'vision_transformer',\n 'vit_b_16',\n 'vit_b_32',\n 'vit_h_14',\n 'vit_l_16',\n 'vit_l_32',\n 'wide_resnet101_2',\n 'wide_resnet50_2']"
     },
     "execution_count": 10,
     "metadata": {},
     "output_type": "execute_result"
    }
   ],
   "source": [
    "dir(models)"
   ],
   "metadata": {
    "collapsed": false
   }
  },
  {
   "cell_type": "markdown",
   "metadata": {
    "id": "9Y0oUAuhkRLX"
   },
   "source": [
    "Мы можем создавать матрицы, перемножать их, складывать, транспонировать и в целом совершать любые матричные операции"
   ]
  },
  {
   "cell_type": "code",
   "execution_count": 11,
   "metadata": {
    "id": "3m6fDtKlkRLZ"
   },
   "outputs": [],
   "source": [
    "import numpy as np \n",
    "\n",
    "import torch\n",
    "import torchvision\n",
    "\n",
    "import torch.nn as nn\n",
    "import torch.nn.functional as F\n",
    "\n",
    "import matplotlib.pyplot as plt"
   ]
  },
  {
   "cell_type": "code",
   "execution_count": 12,
   "metadata": {
    "colab": {
     "base_uri": "https://localhost:8080/"
    },
    "id": "nKJ_eIf9kRLc",
    "outputId": "0f520e93-9272-4482-8e82-07fb0f2af982"
   },
   "outputs": [
    {
     "data": {
      "text/plain": "array([[0.37454012, 0.95071431, 0.73199394],\n       [0.59865848, 0.15601864, 0.15599452],\n       [0.05808361, 0.86617615, 0.60111501],\n       [0.70807258, 0.02058449, 0.96990985],\n       [0.83244264, 0.21233911, 0.18182497]])"
     },
     "execution_count": 12,
     "metadata": {},
     "output_type": "execute_result"
    }
   ],
   "source": [
    "np.random.seed(42)\n",
    "\n",
    "a = np.random.rand(5, 3) # создали случайную матрицу \n",
    "a"
   ]
  },
  {
   "cell_type": "code",
   "execution_count": 13,
   "metadata": {
    "colab": {
     "base_uri": "https://localhost:8080/"
    },
    "id": "m7QzfmpNkRLd",
    "outputId": "fe3306f4-42da-4291-fab0-6f27c8890cda"
   },
   "outputs": [
    {
     "name": "stdout",
     "output_type": "stream",
     "text": [
      "Проверили размеры : (5, 3)\n",
      "\n"
     ]
    }
   ],
   "source": [
    "print(\"Проверили размеры : %s\\n\" % (a.shape,))"
   ]
  },
  {
   "cell_type": "code",
   "execution_count": 14,
   "metadata": {
    "colab": {
     "base_uri": "https://localhost:8080/"
    },
    "id": "iSH48GyMkRLe",
    "outputId": "299fe457-6ce4-47cc-ece0-459184ae0079"
   },
   "outputs": [
    {
     "name": "stdout",
     "output_type": "stream",
     "text": [
      "Добавили 5 :\n",
      "[[5.37454012 5.95071431 5.73199394]\n",
      " [5.59865848 5.15601864 5.15599452]\n",
      " [5.05808361 5.86617615 5.60111501]\n",
      " [5.70807258 5.02058449 5.96990985]\n",
      " [5.83244264 5.21233911 5.18182497]]\n",
      "\n"
     ]
    }
   ],
   "source": [
    "print(\"Добавили 5 :\\n%s\\n\" % (a + 5))"
   ]
  },
  {
   "cell_type": "markdown",
   "source": [
    "## Задание"
   ],
   "metadata": {
    "id": "5PQpPyl-eNWC"
   }
  },
  {
   "cell_type": "markdown",
   "source": [
    "Умножьте матрицу `а` на транспонированную матрицу `а`.  \n",
    "\n",
    "Чему равен самый первый элемент результата?  \n",
    "Ответ округлите до сотых."
   ],
   "metadata": {
    "id": "Q-Xs6jUiJUqc"
   }
  },
  {
   "cell_type": "code",
   "execution_count": 17,
   "metadata": {
    "id": "3PH52x_pkRLf"
   },
   "outputs": [
    {
     "data": {
      "text/plain": "array([[1.58, 0.49, 1.29, 0.99, 0.65],\n       [0.49, 0.41, 0.26, 0.58, 0.56],\n       [1.29, 0.26, 1.11, 0.64, 0.34],\n       [0.99, 0.58, 0.64, 1.44, 0.77],\n       [0.65, 0.56, 0.34, 0.77, 0.77]])"
     },
     "execution_count": 17,
     "metadata": {},
     "output_type": "execute_result"
    }
   ],
   "source": [
    "t = np.dot(a, a.T)\n",
    "t = np.round(t, 2)\n",
    "t"
   ]
  },
  {
   "cell_type": "code",
   "execution_count": 18,
   "metadata": {
    "colab": {
     "base_uri": "https://localhost:8080/"
    },
    "id": "NdmpOlEZkRLg",
    "outputId": "b2e2bd76-9d43-466b-e9f3-b026855bbeb5"
   },
   "outputs": [
    {
     "name": "stdout",
     "output_type": "stream",
     "text": [
      "Среднее по колонкам :\n",
      "[0.68574946 0.30355721 0.50845826 0.56618897 0.40886891]\n",
      "\n"
     ]
    }
   ],
   "source": [
    "print(\"Среднее по колонкам :\\n%s\\n\" % (a.mean(axis=-1)))"
   ]
  },
  {
   "cell_type": "code",
   "execution_count": 19,
   "metadata": {
    "colab": {
     "base_uri": "https://localhost:8080/"
    },
    "id": "4jbmtVfLkRLh",
    "outputId": "6684a52d-0060-4677-93fc-c52a78481f95"
   },
   "outputs": [
    {
     "name": "stdout",
     "output_type": "stream",
     "text": [
      "Изменили размеры :\n",
      "(3, 5)\n",
      "\n"
     ]
    }
   ],
   "source": [
    "print(\"Изменили размеры :\\n%s\\n\" % (a.reshape(3, 5).shape,))"
   ]
  },
  {
   "cell_type": "markdown",
   "metadata": {
    "id": "gOccPs9wkRLi"
   },
   "source": [
    "## Задание\n",
    "\n",
    "При помощи *NumPy* посчитайте сумму квадратов натуральных чисел от 1 до 10000."
   ]
  },
  {
   "cell_type": "code",
   "execution_count": 35,
   "outputs": [
    {
     "data": {
      "text/plain": "range(1, 10)"
     },
     "execution_count": 35,
     "metadata": {},
     "output_type": "execute_result"
    }
   ],
   "source": [
    "import numpy as np\n",
    "\n",
    "a = range(1, 10)\n",
    "a"
   ],
   "metadata": {
    "collapsed": false
   }
  },
  {
   "cell_type": "code",
   "execution_count": 39,
   "outputs": [
    {
     "data": {
      "text/plain": "array([ 1,  2,  3,  4,  5,  6,  7,  8,  9, 10])"
     },
     "execution_count": 39,
     "metadata": {},
     "output_type": "execute_result"
    }
   ],
   "source": [
    "b = np.arange(1,11)\n",
    "b"
   ],
   "metadata": {
    "collapsed": false
   }
  },
  {
   "cell_type": "code",
   "execution_count": 41,
   "metadata": {
    "id": "AXxc0OADkRLi"
   },
   "outputs": [
    {
     "name": "stdout",
     "output_type": "stream",
     "text": [
      "333383335000\n"
     ]
    }
   ],
   "source": [
    "sum = 0\n",
    "for i in list(range(1, 10001)):\n",
    "    sum += i ** 2\n",
    "\n",
    "print(sum)"
   ]
  },
  {
   "cell_type": "code",
   "execution_count": 63,
   "outputs": [
    {
     "name": "stdout",
     "output_type": "stream",
     "text": [
      "333383335001\n"
     ]
    }
   ],
   "source": [
    "sum = 1\n",
    "for i in np.arange(1, 10001, dtype=np.int64):\n",
    "    sum += i ** 2\n",
    "\n",
    "print(sum)"
   ],
   "metadata": {
    "collapsed": false
   }
  },
  {
   "cell_type": "markdown",
   "metadata": {
    "id": "e0k_uiiokRLj"
   },
   "source": [
    "### Аналогичные операции в *PyTorch* выглядят следующим образом, синтаксис отличается, но совсем немного:"
   ]
  },
  {
   "cell_type": "code",
   "execution_count": 65,
   "metadata": {
    "colab": {
     "base_uri": "https://localhost:8080/"
    },
    "id": "PWv2AHRykRLk",
    "outputId": "7bf4835a-5ddc-4c7c-fc16-347af4f22241"
   },
   "outputs": [
    {
     "data": {
      "text/plain": "tensor([[0.8823, 0.9150, 0.3829],\n        [0.9593, 0.3904, 0.6009],\n        [0.2566, 0.7936, 0.9408],\n        [0.1332, 0.9346, 0.5936],\n        [0.8694, 0.5677, 0.7411]])"
     },
     "execution_count": 65,
     "metadata": {},
     "output_type": "execute_result"
    }
   ],
   "source": [
    "x = torch.rand(5, 3)\n",
    "x"
   ]
  },
  {
   "cell_type": "code",
   "execution_count": 66,
   "metadata": {
    "colab": {
     "base_uri": "https://localhost:8080/"
    },
    "id": "fjNGDbtPkRLk",
    "outputId": "bad22419-49ef-4e6d-c604-f7b036e3a57a"
   },
   "outputs": [
    {
     "name": "stdout",
     "output_type": "stream",
     "text": [
      "Проверили размеры : torch.Size([5, 3])\n",
      "\n"
     ]
    }
   ],
   "source": [
    "print(\"Проверили размеры : %s\\n\" % (x.shape,))"
   ]
  },
  {
   "cell_type": "code",
   "execution_count": 67,
   "metadata": {
    "colab": {
     "base_uri": "https://localhost:8080/"
    },
    "id": "DALGo7QHkRLl",
    "outputId": "8a4f0f5f-c30a-48dc-d13d-93aec2bcb166"
   },
   "outputs": [
    {
     "name": "stdout",
     "output_type": "stream",
     "text": [
      "Добавили 5 :\n",
      "tensor([[5.8823, 5.9150, 5.3829],\n",
      "        [5.9593, 5.3904, 5.6009],\n",
      "        [5.2566, 5.7936, 5.9408],\n",
      "        [5.1332, 5.9346, 5.5936],\n",
      "        [5.8694, 5.5677, 5.7411]])\n",
      "\n"
     ]
    }
   ],
   "source": [
    "print(\"Добавили 5 :\\n%s\\n\" % (x + 5))"
   ]
  },
  {
   "cell_type": "code",
   "execution_count": 68,
   "metadata": {
    "colab": {
     "base_uri": "https://localhost:8080/"
    },
    "id": "gm7QOaAQkRLm",
    "outputId": "04916544-d5b3-49c0-d448-464b78f36651"
   },
   "outputs": [
    {
     "name": "stdout",
     "output_type": "stream",
     "text": [
      "X*X^T  (1):\n",
      "tensor([[1.7622, 1.4337, 1.3127, 1.1999, 1.5702],\n",
      "        [1.4337, 1.4338, 1.1213, 0.8494, 1.5010],\n",
      "        [1.3127, 1.1213, 1.5807, 1.3343, 1.3708],\n",
      "        [1.1999, 0.8494, 1.3343, 1.2435, 1.0863],\n",
      "        [1.5702, 1.5010, 1.3708, 1.0863, 1.6274]])\n",
      "\n",
      "X*X^T  (2):\n",
      "tensor([[1.7622, 1.4337, 1.3127, 1.1999, 1.5702],\n",
      "        [1.4337, 1.4338, 1.1213, 0.8494, 1.5010],\n",
      "        [1.3127, 1.1213, 1.5807, 1.3343, 1.3708],\n",
      "        [1.1999, 0.8494, 1.3343, 1.2435, 1.0863],\n",
      "        [1.5702, 1.5010, 1.3708, 1.0863, 1.6274]])\n",
      "\n"
     ]
    }
   ],
   "source": [
    "print(\"X*X^T  (1):\\n%s\\n\" % (torch.matmul(x, x.transpose(1, 0))))\n",
    "print(\"X*X^T  (2):\\n%s\\n\" % (x.mm(x.t())))"
   ]
  },
  {
   "cell_type": "code",
   "execution_count": 52,
   "metadata": {
    "colab": {
     "base_uri": "https://localhost:8080/"
    },
    "id": "9MlA4NnokRLm",
    "outputId": "87e81400-ae87-41ca-e166-c057561f9bd6"
   },
   "outputs": [
    {
     "name": "stdout",
     "output_type": "stream",
     "text": [
      "Среднее по колонкам :\n",
      "tensor([0.3080, 0.3459, 0.6385, 0.5080, 0.3934])\n",
      "\n"
     ]
    }
   ],
   "source": [
    "print(\"Среднее по колонкам :\\n%s\\n\" % (x.mean(dim=-1)))"
   ]
  },
  {
   "cell_type": "code",
   "execution_count": 64,
   "metadata": {
    "colab": {
     "base_uri": "https://localhost:8080/"
    },
    "id": "1wqQTDpOkRLn",
    "outputId": "d3e04dd1-ae6c-4dd8-ea2b-09dda44b4542"
   },
   "outputs": [
    {
     "name": "stdout",
     "output_type": "stream",
     "text": [
      "Изменили размеры :\n",
      "torch.Size([3, 5])\n",
      "\n",
      "Изменили размеры :\n",
      "torch.Size([3, 5])\n",
      "\n"
     ]
    }
   ],
   "source": [
    "print(\"Изменили размеры :\\n%s\\n\" % (x.view([3, 5]).shape,))\n",
    "print(\"Изменили размеры :\\n%s\\n\" % (x.view_as(x.t()).shape,))"
   ]
  },
  {
   "cell_type": "markdown",
   "metadata": {
    "id": "EtnLnIxPkRLn"
   },
   "source": [
    "Небольшой пример того, как меняются операции:\n",
    "\n",
    "* `x.reshape([1,2,8]) -> x.view(1,2,8)`\n",
    "\n",
    "* `x.sum(axis=-1) -> x.sum(dim=-1)`\n",
    "\n",
    "* `x.astype('int64') -> x.type(torch.LongTensor)`\n",
    "\n",
    "Для помощи вам есть [таблица](https://github.com/torch/torch7/wiki/Torch-for-Numpy-users), которая поможет вам найти аналог операции в *NumPy*.\n"
   ]
  },
  {
   "cell_type": "markdown",
   "metadata": {
    "id": "V-QMteahkRLo"
   },
   "source": [
    "При помощи *PyTorch* посчитаем сумму квадратов натуральных чисел от 1 до 10000."
   ]
  },
  {
   "cell_type": "code",
   "execution_count": 69,
   "metadata": {
    "colab": {
     "base_uri": "https://localhost:8080/"
    },
    "id": "rHzmts5AkRLo",
    "outputId": "29a48bf1-9175-4d2b-85b7-81c7cb7305ba"
   },
   "outputs": [
    {
     "name": "stderr",
     "output_type": "stream",
     "text": [
      "C:\\Users\\HOME\\AppData\\Local\\Temp\\ipykernel_6428\\3730827553.py:1: UserWarning: torch.range is deprecated and will be removed in a future release because its behavior is inconsistent with Python's range builtin. Instead, use torch.arange, which produces values in [start, end).\n",
      "  torch.sum(torch.range(1, 10000) ** 2)\n"
     ]
    },
    {
     "data": {
      "text/plain": "tensor(3.3338e+11)"
     },
     "execution_count": 69,
     "metadata": {},
     "output_type": "execute_result"
    }
   ],
   "source": [
    "torch.sum(torch.range(1, 10000) ** 2)"
   ]
  },
  {
   "cell_type": "markdown",
   "metadata": {
    "id": "-ebxkKPikRLp"
   },
   "source": [
    "## Создаем тензоры в *PyTorch* и снова изучаем базовые операции"
   ]
  },
  {
   "cell_type": "code",
   "execution_count": 70,
   "metadata": {
    "colab": {
     "base_uri": "https://localhost:8080/"
    },
    "id": "lnxk_oJZkRLq",
    "outputId": "b8e02bcc-3e17-4c89-f222-263979176792"
   },
   "outputs": [
    {
     "name": "stdout",
     "output_type": "stream",
     "text": [
      "tensor([[7.0909e+02, 8.9823e-43, 7.0909e+02],\n",
      "        [8.9823e-43, 7.0909e+02, 8.9823e-43],\n",
      "        [7.0909e+02, 8.9823e-43, 7.0909e+02],\n",
      "        [8.9823e-43, 7.0909e+02, 8.9823e-43],\n",
      "        [7.0909e+02, 8.9823e-43, 7.0909e+02]])\n"
     ]
    }
   ],
   "source": [
    "x = torch.empty(5, 3) # пустой тензор\n",
    "print(x)"
   ]
  },
  {
   "cell_type": "code",
   "execution_count": 71,
   "metadata": {
    "colab": {
     "base_uri": "https://localhost:8080/"
    },
    "id": "fKAtmLU1kRLr",
    "outputId": "53537c39-a947-4d4f-e4b0-237a318df957"
   },
   "outputs": [
    {
     "name": "stdout",
     "output_type": "stream",
     "text": [
      "tensor([[0.4294, 0.8854, 0.5739],\n",
      "        [0.2666, 0.6274, 0.2696],\n",
      "        [0.4414, 0.2969, 0.8317],\n",
      "        [0.1053, 0.2695, 0.3588],\n",
      "        [0.1994, 0.5472, 0.0062]])\n"
     ]
    }
   ],
   "source": [
    "x = torch.rand(5, 3) # тензор со случайными числами\n",
    "print(x)"
   ]
  },
  {
   "cell_type": "code",
   "execution_count": 73,
   "metadata": {
    "colab": {
     "base_uri": "https://localhost:8080/"
    },
    "id": "xSMg9XO5kRLr",
    "outputId": "891c8a49-eff5-4bc6-e748-9b828baffa07"
   },
   "outputs": [
    {
     "name": "stdout",
     "output_type": "stream",
     "text": [
      "tensor([[0, 0, 0],\n",
      "        [0, 0, 0],\n",
      "        [0, 0, 0],\n",
      "        [0, 0, 0],\n",
      "        [0, 0, 0]])\n"
     ]
    }
   ],
   "source": [
    "# np.int64 = torch.LongTensor\n",
    "x = torch.zeros(5, 3, dtype=torch.long) # тензор с нулями и указанием типов чисел\n",
    "print(x)"
   ]
  },
  {
   "cell_type": "code",
   "execution_count": 75,
   "metadata": {
    "colab": {
     "base_uri": "https://localhost:8080/"
    },
    "id": "FQlyXpO1kRLs",
    "outputId": "dcb1f50e-cd92-46bc-bfda-95224eedc6f5"
   },
   "outputs": [
    {
     "name": "stdout",
     "output_type": "stream",
     "text": [
      "tensor([5.5000, 3.0000])\n"
     ]
    }
   ],
   "source": [
    "x = torch.tensor([5.5, 3]) # конструируем тензор из питоновского листа\n",
    "print(x)"
   ]
  },
  {
   "cell_type": "code",
   "execution_count": 76,
   "metadata": {
    "colab": {
     "base_uri": "https://localhost:8080/"
    },
    "id": "9upBvFU3kRLs",
    "outputId": "2e364966-8c30-4579-fc56-f041f3657277"
   },
   "outputs": [
    {
     "name": "stdout",
     "output_type": "stream",
     "text": [
      "tensor([[1., 1., 1.],\n",
      "        [1., 1., 1.],\n",
      "        [1., 1., 1.],\n",
      "        [1., 1., 1.],\n",
      "        [1., 1., 1.]], dtype=torch.float64) torch.Size([5, 3])\n"
     ]
    }
   ],
   "source": [
    "x = x.new_ones(5, 3, dtype=torch.double) # используем уже созданный тензор для создания тензора из единичек\n",
    "print(x, x.size()) "
   ]
  },
  {
   "cell_type": "code",
   "execution_count": 60,
   "metadata": {
    "colab": {
     "base_uri": "https://localhost:8080/"
    },
    "id": "_u-h30lYkRLt",
    "outputId": "91f3a359-1e5f-4328-c2ce-6683c8b292c1"
   },
   "outputs": [
    {
     "name": "stdout",
     "output_type": "stream",
     "text": [
      "tensor([[ 0.9023,  1.1222,  0.8512],\n",
      "        [ 1.1030, -0.5384, -0.0357],\n",
      "        [ 1.2008,  0.7556,  0.0645],\n",
      "        [-1.4366, -1.2169,  0.6574],\n",
      "        [ 0.9912, -1.5123,  0.9068]]) torch.Size([5, 3])\n"
     ]
    }
   ],
   "source": [
    "x = torch.randn_like(x, dtype=torch.float) # создаем матрицу с размерами как у x\n",
    "print(x, x.size())"
   ]
  },
  {
   "cell_type": "markdown",
   "source": [
    "## Задание"
   ],
   "metadata": {
    "id": "nct86OE6Lzdt"
   }
  },
  {
   "cell_type": "markdown",
   "source": [
    "Сгенерируйте два тензора: `x` и `y` размера 5 на 3 со случайными числами.\n",
    "Вычислите сумму тензоров `x` и `y`.\n",
    "\n",
    "В ответе напишите значение первой координаты в полученной суммы, округленной до сотых."
   ],
   "metadata": {
    "id": "VdZOcgoafJdK"
   }
  },
  {
   "cell_type": "code",
   "execution_count": 88,
   "metadata": {
    "id": "f-zCf-MhkRLt"
   },
   "outputs": [
    {
     "data": {
      "text/plain": "tensor([[0.8823, 0.9150, 0.3829],\n        [0.9593, 0.3904, 0.6009],\n        [0.2566, 0.7936, 0.9408],\n        [0.1332, 0.9346, 0.5936],\n        [0.8694, 0.5677, 0.7411]])"
     },
     "execution_count": 88,
     "metadata": {},
     "output_type": "execute_result"
    }
   ],
   "source": [
    "torch.manual_seed(42)\n",
    "x = torch.rand(5, 3)\n",
    "x"
   ]
  },
  {
   "cell_type": "code",
   "execution_count": 89,
   "outputs": [
    {
     "name": "stderr",
     "output_type": "stream",
     "text": [
      "C:\\Users\\HOME\\AppData\\Local\\Temp\\ipykernel_6428\\3207709343.py:1: UserWarning: To copy construct from a tensor, it is recommended to use sourceTensor.clone().detach() or sourceTensor.clone().detach().requires_grad_(True), rather than torch.tensor(sourceTensor).\n",
      "  torch.round(torch.tensor(x[0]), decimals=2)\n"
     ]
    },
    {
     "data": {
      "text/plain": "tensor([0.8800, 0.9200, 0.3800])"
     },
     "execution_count": 89,
     "metadata": {},
     "output_type": "execute_result"
    }
   ],
   "source": [
    "torch.round(torch.tensor(x[0]), decimals=2)"
   ],
   "metadata": {
    "collapsed": false
   }
  },
  {
   "cell_type": "code",
   "execution_count": 79,
   "outputs": [
    {
     "data": {
      "text/plain": "tensor([[0.4294, 0.8854, 0.5739],\n        [0.2666, 0.6274, 0.2696],\n        [0.4414, 0.2969, 0.8317],\n        [0.1053, 0.2695, 0.3588],\n        [0.1994, 0.5472, 0.0062]])"
     },
     "execution_count": 79,
     "metadata": {},
     "output_type": "execute_result"
    }
   ],
   "source": [
    "y = torch.rand(5, 3)\n",
    "y"
   ],
   "metadata": {
    "collapsed": false
   }
  },
  {
   "cell_type": "code",
   "execution_count": 90,
   "outputs": [
    {
     "name": "stderr",
     "output_type": "stream",
     "text": [
      "C:\\Users\\HOME\\AppData\\Local\\Temp\\ipykernel_6428\\119967581.py:1: UserWarning: To copy construct from a tensor, it is recommended to use sourceTensor.clone().detach() or sourceTensor.clone().detach().requires_grad_(True), rather than torch.tensor(sourceTensor).\n",
      "  torch.round(torch.tensor(y[0]), decimals=2)\n"
     ]
    },
    {
     "data": {
      "text/plain": "tensor([0.4300, 0.8900, 0.5700])"
     },
     "execution_count": 90,
     "metadata": {},
     "output_type": "execute_result"
    }
   ],
   "source": [
    "torch.round(torch.tensor(y[0]), decimals=2)"
   ],
   "metadata": {
    "collapsed": false
   }
  },
  {
   "cell_type": "code",
   "execution_count": 91,
   "metadata": {
    "id": "fwOv0PQykRLw"
   },
   "outputs": [
    {
     "name": "stdout",
     "output_type": "stream",
     "text": [
      "tensor([[0.3789, 0.8102, 0.2197],\n",
      "        [0.2557, 0.2450, 0.1620],\n",
      "        [0.1132, 0.2356, 0.7824],\n",
      "        [0.0140, 0.2519, 0.2130],\n",
      "        [0.1733, 0.3106, 0.0046]])\n"
     ]
    }
   ],
   "source": [
    "print(x * y) # поэлементное умножение"
   ]
  },
  {
   "cell_type": "markdown",
   "source": [
    "## Задание"
   ],
   "metadata": {
    "id": "95pa8_HnL7r0"
   }
  },
  {
   "cell_type": "markdown",
   "source": [
    "Умножьте матрицу `x` на транспонированную матрицу `y`.\n",
    "\n",
    "В ответ напишите последний элемент (правый нижний) полученной матрицы.  \n",
    "Ответ округлите до сотых."
   ],
   "metadata": {
    "id": "lmF9KzEtgGOa"
   }
  },
  {
   "cell_type": "code",
   "execution_count": 93,
   "metadata": {
    "id": "8CeulY3jkRLx"
   },
   "outputs": [
    {
     "name": "stdout",
     "output_type": "stream",
     "text": [
      "x*x^T  (option 1):\n",
      "tensor([[1.7622, 1.4337, 1.3127, 1.1999, 1.5702],\n",
      "        [1.4337, 1.4338, 1.1213, 0.8494, 1.5010],\n",
      "        [1.3127, 1.1213, 1.5807, 1.3343, 1.3708],\n",
      "        [1.1999, 0.8494, 1.3343, 1.2435, 1.0863],\n",
      "        [1.5702, 1.5010, 1.3708, 1.0863, 1.6274]])\n",
      "\n",
      "x*x^T  (option 2):\n",
      "tensor([[1.7622, 1.4337, 1.3127, 1.1999, 1.5702],\n",
      "        [1.4337, 1.4338, 1.1213, 0.8494, 1.5010],\n",
      "        [1.3127, 1.1213, 1.5807, 1.3343, 1.3708],\n",
      "        [1.1999, 0.8494, 1.3343, 1.2435, 1.0863],\n",
      "        [1.5702, 1.5010, 1.3708, 1.0863, 1.6274]])\n",
      "\n"
     ]
    }
   ],
   "source": [
    "print(\"x*x^T  (option 1):\\n%s\\n\" % (torch.matmul(x, x.transpose(1, 0))))\n",
    "print(\"x*x^T  (option 2):\\n%s\\n\" % (x.mm(x.t())))"
   ]
  },
  {
   "cell_type": "code",
   "execution_count": 94,
   "outputs": [
    {
     "name": "stdout",
     "output_type": "stream",
     "text": [
      "y*y^T  (option 1):\n",
      "tensor([[1.2978, 0.8248, 0.9297, 0.4898, 0.5737],\n",
      "        [0.8248, 0.5375, 0.5282, 0.2939, 0.3981],\n",
      "        [0.9297, 0.5282, 0.9747, 0.4249, 0.2556],\n",
      "        [0.4898, 0.2939, 0.4249, 0.2125, 0.1707],\n",
      "        [0.5737, 0.3981, 0.2556, 0.1707, 0.3392]])\n",
      "\n",
      "y*y^T  (option 2):\n",
      "tensor([[1.2978, 0.8248, 0.9297, 0.4898, 0.5737],\n",
      "        [0.8248, 0.5375, 0.5282, 0.2939, 0.3981],\n",
      "        [0.9297, 0.5282, 0.9747, 0.4249, 0.2556],\n",
      "        [0.4898, 0.2939, 0.4249, 0.2125, 0.1707],\n",
      "        [0.5737, 0.3981, 0.2556, 0.1707, 0.3392]])\n",
      "\n"
     ]
    }
   ],
   "source": [
    "print(\"y*y^T  (option 1):\\n%s\\n\" % (torch.matmul(y, y.transpose(1, 0))))\n",
    "print(\"y*y^T  (option 2):\\n%s\\n\" % (y.mm(y.t())))"
   ],
   "metadata": {
    "collapsed": false
   }
  },
  {
   "cell_type": "code",
   "execution_count": 95,
   "metadata": {
    "colab": {
     "base_uri": "https://localhost:8080/"
    },
    "id": "JfIqJz8EkRLy",
    "outputId": "47f940f1-46d2-46fd-bd6e-4541f65d79d1"
   },
   "outputs": [
    {
     "name": "stdout",
     "output_type": "stream",
     "text": [
      "torch.Size([1, 5, 3])\n"
     ]
    }
   ],
   "source": [
    "print(x.unsqueeze(0).shape) # добавили измерение в начало, аналог броадкастинга "
   ]
  },
  {
   "cell_type": "code",
   "execution_count": 96,
   "metadata": {
    "colab": {
     "base_uri": "https://localhost:8080/"
    },
    "id": "WlGFxytDkRLz",
    "outputId": "5dafb85e-16ee-4d9f-8803-79750e8a7435"
   },
   "outputs": [
    {
     "name": "stdout",
     "output_type": "stream",
     "text": [
      "torch.Size([5, 3])\n"
     ]
    }
   ],
   "source": [
    "print(x.unsqueeze(0).squeeze(0).shape) # убрали измерение в начале, аналог броадкастинга "
   ]
  },
  {
   "cell_type": "code",
   "source": [
    "a = torch.rand((1, 3))\n",
    "a"
   ],
   "metadata": {
    "colab": {
     "base_uri": "https://localhost:8080/"
    },
    "id": "CDlNQv5hNb8S",
    "outputId": "333707ef-335c-471c-af4b-9a8c217693aa"
   },
   "execution_count": 100,
   "outputs": [
    {
     "data": {
      "text/plain": "tensor([[0.4414, 0.2969, 0.8317]])"
     },
     "execution_count": 100,
     "metadata": {},
     "output_type": "execute_result"
    }
   ]
  },
  {
   "cell_type": "code",
   "source": [
    "a.squeeze(0)"
   ],
   "metadata": {
    "colab": {
     "base_uri": "https://localhost:8080/"
    },
    "id": "qzPXu8k4Nb_X",
    "outputId": "276fc68a-c6ff-4e57-c9dc-a9241c89cf24"
   },
   "execution_count": 101,
   "outputs": [
    {
     "data": {
      "text/plain": "tensor([0.4414, 0.2969, 0.8317])"
     },
     "execution_count": 101,
     "metadata": {},
     "output_type": "execute_result"
    }
   ]
  },
  {
   "cell_type": "markdown",
   "metadata": {
    "id": "hVtkNSS8kRLz"
   },
   "source": [
    "Мы также можем делать обычные срезы и переводить матрицы назад в *NumPy*:"
   ]
  },
  {
   "cell_type": "code",
   "execution_count": 102,
   "metadata": {
    "colab": {
     "base_uri": "https://localhost:8080/"
    },
    "id": "6Jv3jZimkRLz",
    "outputId": "769ab5b4-2e1e-4284-fe1f-39113344792a"
   },
   "outputs": [
    {
     "name": "stdout",
     "output_type": "stream",
     "text": [
      "True\n",
      "True\n"
     ]
    }
   ],
   "source": [
    "a = np.ones((3, 5))\n",
    "x = torch.ones((3, 5))\n",
    "print(np.allclose(x.numpy(), a))\n",
    "print(np.allclose(x.numpy()[:, 1], a[:, 1]))"
   ]
  },
  {
   "cell_type": "code",
   "source": [
    "a = np.array([1,2,3,4])\n",
    "b = np.array([[5],[6],[7],[8]])\n",
    "\n",
    "a.shape, b.shape"
   ],
   "metadata": {
    "colab": {
     "base_uri": "https://localhost:8080/"
    },
    "id": "5jCXz5cakiw5",
    "outputId": "369f255a-5144-476d-fe2a-09a527c704ef"
   },
   "execution_count": 103,
   "outputs": [
    {
     "data": {
      "text/plain": "((4,), (4, 1))"
     },
     "execution_count": 103,
     "metadata": {},
     "output_type": "execute_result"
    }
   ]
  },
  {
   "cell_type": "code",
   "source": [
    "a @ b"
   ],
   "metadata": {
    "colab": {
     "base_uri": "https://localhost:8080/"
    },
    "id": "KtEUqtkZkp6-",
    "outputId": "c3fbc569-dfc0-4bd1-cd89-b235f1dcc66f"
   },
   "execution_count": 104,
   "outputs": [
    {
     "data": {
      "text/plain": "array([70])"
     },
     "execution_count": 104,
     "metadata": {},
     "output_type": "execute_result"
    }
   ]
  },
  {
   "cell_type": "code",
   "source": [
    "b @ a"
   ],
   "metadata": {
    "colab": {
     "base_uri": "https://localhost:8080/",
     "height": 164
    },
    "id": "rYIcV16ukw3_",
    "outputId": "7903aabc-c2f4-4605-e1a8-985b1942814c"
   },
   "execution_count": 105,
   "outputs": [
    {
     "ename": "ValueError",
     "evalue": "matmul: Input operand 1 has a mismatch in its core dimension 0, with gufunc signature (n?,k),(k,m?)->(n?,m?) (size 4 is different from 1)",
     "output_type": "error",
     "traceback": [
      "\u001B[1;31m---------------------------------------------------------------------------\u001B[0m",
      "\u001B[1;31mValueError\u001B[0m                                Traceback (most recent call last)",
      "Cell \u001B[1;32mIn[105], line 1\u001B[0m\n\u001B[1;32m----> 1\u001B[0m \u001B[43mb\u001B[49m\u001B[43m \u001B[49m\u001B[38;5;241;43m@\u001B[39;49m\u001B[43m \u001B[49m\u001B[43ma\u001B[49m\n",
      "\u001B[1;31mValueError\u001B[0m: matmul: Input operand 1 has a mismatch in its core dimension 0, with gufunc signature (n?,k),(k,m?)->(n?,m?) (size 4 is different from 1)"
     ]
    }
   ]
  }
 ],
 "metadata": {
  "colab": {
   "provenance": []
  },
  "kernelspec": {
   "display_name": "Python 3",
   "language": "python",
   "name": "python3"
  },
  "language_info": {
   "codemirror_mode": {
    "name": "ipython",
    "version": 3
   },
   "file_extension": ".py",
   "mimetype": "text/x-python",
   "name": "python",
   "nbconvert_exporter": "python",
   "pygments_lexer": "ipython3",
   "version": "3.6.9"
  },
  "accelerator": "GPU",
  "gpuClass": "standard"
 },
 "nbformat": 4,
 "nbformat_minor": 0
}
